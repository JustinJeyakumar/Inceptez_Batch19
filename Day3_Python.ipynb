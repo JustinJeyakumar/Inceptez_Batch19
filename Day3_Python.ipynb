{
  "nbformat": 4,
  "nbformat_minor": 0,
  "metadata": {
    "colab": {
      "name": "Day3_Python.ipynb",
      "provenance": [],
      "collapsed_sections": []
    },
    "kernelspec": {
      "name": "python3",
      "display_name": "Python 3"
    },
    "language_info": {
      "name": "python"
    }
  },
  "cells": [
    {
      "cell_type": "code",
      "execution_count": null,
      "metadata": {
        "colab": {
          "base_uri": "https://localhost:8080/"
        },
        "id": "mab2axM3P-vV",
        "outputId": "3ead05d1-872c-48ec-8c9b-0500c424ec55"
      },
      "outputs": [
        {
          "output_type": "stream",
          "name": "stdout",
          "text": [
            "<map object at 0x7f238892d250>\n",
            "[1, 4, 9]\n"
          ]
        }
      ],
      "source": [
        "def mul(x):\n",
        "  return x*x\n",
        "\n",
        "ls = [1,2,3]\n",
        "\n",
        "result = map(mul,ls)\n",
        "print(result)\n",
        "print(list(result))"
      ]
    },
    {
      "cell_type": "code",
      "source": [
        "\n",
        "# function to double the number\n",
        "def num (n) :\n",
        "    return n * 2\n",
        "          \n",
        "lst = [2, 44, 5.5, 6, -7]\n",
        "  \n",
        "# suppose we want to call function\n",
        "# 'num' for each element of lst,\n",
        "# we use map\n",
        "  \n",
        "# creates a map object\n",
        "x = map(num, lst) \n",
        "print(x) \n",
        "  \n",
        "# returns list\n",
        "print(list(x)) "
      ],
      "metadata": {
        "colab": {
          "base_uri": "https://localhost:8080/"
        },
        "id": "VIhjUUp7REAA",
        "outputId": "c9592f79-7764-4629-bdc6-f6e0545c45ed"
      },
      "execution_count": null,
      "outputs": [
        {
          "output_type": "stream",
          "name": "stdout",
          "text": [
            "<map object at 0x7f238897d110>\n",
            "[4, 88, 11.0, 12, -14]\n"
          ]
        }
      ]
    },
    {
      "cell_type": "code",
      "source": [
        "# Different types of tuples\n",
        "\n",
        "# Empty tuple\n",
        "my_tuple = ()\n",
        "print(my_tuple)\n",
        "\n",
        "# Tuple having integers\n",
        "my_tuple = (1, 2, 3)\n",
        "print(my_tuple)\n",
        "\n",
        "# tuple with mixed datatypes\n",
        "my_tuple = (1, \"Hello\", 3.4)\n",
        "print(my_tuple)\n",
        "\n",
        "# nested tuple\n",
        "my_tuple = (\"mouse\", [8, 4, 6], (1, 2, 3))\n",
        "print(my_tuple)"
      ],
      "metadata": {
        "colab": {
          "base_uri": "https://localhost:8080/"
        },
        "id": "s13_FHPTZbfs",
        "outputId": "03155b76-ea15-4f0e-c479-749f6f0207be"
      },
      "execution_count": null,
      "outputs": [
        {
          "output_type": "stream",
          "name": "stdout",
          "text": [
            "()\n",
            "(1, 2, 3)\n",
            "(1, 'Hello', 3.4)\n",
            "('mouse', [8, 4, 6], (1, 2, 3))\n"
          ]
        }
      ]
    },
    {
      "cell_type": "code",
      "source": [
        "first_tuple = ()"
      ],
      "metadata": {
        "id": "L2MMB45aZpb5"
      },
      "execution_count": null,
      "outputs": []
    },
    {
      "cell_type": "code",
      "source": [
        "print (first_tuple)"
      ],
      "metadata": {
        "colab": {
          "base_uri": "https://localhost:8080/"
        },
        "id": "XbS2NVGQZtSf",
        "outputId": "54c7397c-b3ea-4678-cc7f-b358debbece2"
      },
      "execution_count": null,
      "outputs": [
        {
          "output_type": "stream",
          "name": "stdout",
          "text": [
            "()\n"
          ]
        }
      ]
    },
    {
      "cell_type": "code",
      "source": [
        "ft = (1,2,3)"
      ],
      "metadata": {
        "id": "GUMk9c9lZyKv"
      },
      "execution_count": null,
      "outputs": []
    },
    {
      "cell_type": "code",
      "source": [
        ""
      ],
      "metadata": {
        "id": "He5YqtZ57nHr"
      },
      "execution_count": null,
      "outputs": []
    },
    {
      "cell_type": "code",
      "source": [
        ""
      ],
      "metadata": {
        "id": "0fcp9j0y7nKp"
      },
      "execution_count": null,
      "outputs": []
    },
    {
      "cell_type": "code",
      "source": [
        ""
      ],
      "metadata": {
        "id": "l3AWFfzM7nQP"
      },
      "execution_count": null,
      "outputs": []
    },
    {
      "cell_type": "code",
      "source": [
        ""
      ],
      "metadata": {
        "id": "SqLlqUEG7nTI"
      },
      "execution_count": null,
      "outputs": []
    },
    {
      "cell_type": "code",
      "source": [
        "ft = (10, 2.0, \"Hello\", [20,10,56])"
      ],
      "metadata": {
        "id": "VsUJRFHhadpL"
      },
      "execution_count": null,
      "outputs": []
    },
    {
      "cell_type": "code",
      "source": [
        "ft"
      ],
      "metadata": {
        "colab": {
          "base_uri": "https://localhost:8080/"
        },
        "id": "CQuhpUaXZ7Wf",
        "outputId": "43eeb65c-b3e4-46d7-c181-b757176574bc"
      },
      "execution_count": null,
      "outputs": [
        {
          "output_type": "execute_result",
          "data": {
            "text/plain": [
              "(10, 2.0, 'Hello', [20, 10, 56])"
            ]
          },
          "metadata": {},
          "execution_count": 27
        }
      ]
    },
    {
      "cell_type": "code",
      "source": [
        "ft[2][2]"
      ],
      "metadata": {
        "colab": {
          "base_uri": "https://localhost:8080/",
          "height": 35
        },
        "id": "sQ4df-iMasMK",
        "outputId": "6d4859e7-9ebc-4e88-a060-217c9ac4c550"
      },
      "execution_count": null,
      "outputs": [
        {
          "output_type": "execute_result",
          "data": {
            "text/plain": [
              "'l'"
            ],
            "application/vnd.google.colaboratory.intrinsic+json": {
              "type": "string"
            }
          },
          "metadata": {},
          "execution_count": 33
        }
      ]
    },
    {
      "cell_type": "code",
      "source": [
        "ft1 = (10,20,30)"
      ],
      "metadata": {
        "id": "VG0acvJrbUFW"
      },
      "execution_count": null,
      "outputs": []
    },
    {
      "cell_type": "code",
      "source": [
        "ft2 = ft+ft1"
      ],
      "metadata": {
        "id": "YT7DwxxgeziU"
      },
      "execution_count": null,
      "outputs": []
    },
    {
      "cell_type": "code",
      "source": [
        "ft2"
      ],
      "metadata": {
        "colab": {
          "base_uri": "https://localhost:8080/"
        },
        "id": "KPFLvbPXaxZY",
        "outputId": "01328282-017c-4b30-d5a4-676acca6d02a"
      },
      "execution_count": null,
      "outputs": [
        {
          "output_type": "execute_result",
          "data": {
            "text/plain": [
              "(10, 2.0, 'Hello', [20, 10, 56], 10, 20, 30)"
            ]
          },
          "metadata": {},
          "execution_count": 42
        }
      ]
    },
    {
      "cell_type": "code",
      "source": [
        "ft2[3][0] = 30"
      ],
      "metadata": {
        "id": "qd3rDNUkjSAE"
      },
      "execution_count": null,
      "outputs": []
    },
    {
      "cell_type": "code",
      "source": [
        "ft2[4] = 100"
      ],
      "metadata": {
        "colab": {
          "base_uri": "https://localhost:8080/",
          "height": 169
        },
        "id": "nmkrDlPwjh3v",
        "outputId": "4e4813e6-27b8-4640-98e9-3d5381bf59f6"
      },
      "execution_count": null,
      "outputs": [
        {
          "output_type": "error",
          "ename": "TypeError",
          "evalue": "ignored",
          "traceback": [
            "\u001b[0;31m---------------------------------------------------------------------------\u001b[0m",
            "\u001b[0;31mTypeError\u001b[0m                                 Traceback (most recent call last)",
            "\u001b[0;32m<ipython-input-45-615f7c2dd78f>\u001b[0m in \u001b[0;36m<module>\u001b[0;34m()\u001b[0m\n\u001b[0;32m----> 1\u001b[0;31m \u001b[0mft2\u001b[0m\u001b[0;34m[\u001b[0m\u001b[0;36m4\u001b[0m\u001b[0;34m]\u001b[0m \u001b[0;34m=\u001b[0m \u001b[0;36m100\u001b[0m\u001b[0;34m\u001b[0m\u001b[0;34m\u001b[0m\u001b[0m\n\u001b[0m",
            "\u001b[0;31mTypeError\u001b[0m: 'tuple' object does not support item assignment"
          ]
        }
      ]
    },
    {
      "cell_type": "code",
      "source": [
        "# Code for converting a list and a string into a tuple\n",
        " \n",
        "list1 = [0, 1, 2]\n",
        "print(tuple(list1))\n",
        "print(tuple('python')) # string 'python'"
      ],
      "metadata": {
        "colab": {
          "base_uri": "https://localhost:8080/"
        },
        "id": "a6ka6k4ojomQ",
        "outputId": "7334e65b-3e87-4414-fdd1-881d8762a1cc"
      },
      "execution_count": null,
      "outputs": [
        {
          "output_type": "stream",
          "name": "stdout",
          "text": [
            "(0, 1, 2)\n",
            "('p', 'y', 't', 'h', 'o', 'n')\n"
          ]
        }
      ]
    },
    {
      "cell_type": "code",
      "source": [
        "list = [0,1,2]\n",
        "b = tuple(list)"
      ],
      "metadata": {
        "id": "IdsfOBbfj_V2"
      },
      "execution_count": null,
      "outputs": []
    },
    {
      "cell_type": "code",
      "source": [
        "b"
      ],
      "metadata": {
        "colab": {
          "base_uri": "https://localhost:8080/"
        },
        "id": "ByDUWMvPkWE1",
        "outputId": "13e207f9-aee5-4758-8433-4af5c80a45cc"
      },
      "execution_count": null,
      "outputs": [
        {
          "output_type": "execute_result",
          "data": {
            "text/plain": [
              "(0, 1, 2)"
            ]
          },
          "metadata": {},
          "execution_count": 49
        }
      ]
    },
    {
      "cell_type": "code",
      "source": [
        "type(b)"
      ],
      "metadata": {
        "colab": {
          "base_uri": "https://localhost:8080/"
        },
        "id": "hqhq_r13kcku",
        "outputId": "a8249aee-02ab-440e-bec2-a23fb64a90e7"
      },
      "execution_count": null,
      "outputs": [
        {
          "output_type": "execute_result",
          "data": {
            "text/plain": [
              "tuple"
            ]
          },
          "metadata": {},
          "execution_count": 50
        }
      ]
    },
    {
      "cell_type": "code",
      "source": [
        "for i in first_tuple:\n",
        "   print (i)"
      ],
      "metadata": {
        "colab": {
          "base_uri": "https://localhost:8080/"
        },
        "id": "A5LYC405kg8y",
        "outputId": "78160679-9e16-4f97-d638-1dd53d811e36"
      },
      "execution_count": null,
      "outputs": [
        {
          "output_type": "stream",
          "name": "stdout",
          "text": [
            "1\n",
            "2\n",
            "3\n"
          ]
        }
      ]
    },
    {
      "cell_type": "code",
      "source": [
        "ft2.count(10)"
      ],
      "metadata": {
        "colab": {
          "base_uri": "https://localhost:8080/"
        },
        "id": "O9GTuSvVa7ZP",
        "outputId": "b104da2f-021b-4662-9683-98ed2f7189d7"
      },
      "execution_count": null,
      "outputs": [
        {
          "output_type": "execute_result",
          "data": {
            "text/plain": [
              "2"
            ]
          },
          "metadata": {},
          "execution_count": 38
        }
      ]
    },
    {
      "cell_type": "code",
      "source": [
        "del ft2"
      ],
      "metadata": {
        "id": "W8eq8GUBfW7r"
      },
      "execution_count": null,
      "outputs": []
    },
    {
      "cell_type": "code",
      "source": [
        "hetergenous\n",
        "duplicate\n",
        "immutable a"
      ],
      "metadata": {
        "id": "mg36XUehiy7H"
      },
      "execution_count": null,
      "outputs": []
    },
    {
      "cell_type": "code",
      "source": [
        ""
      ],
      "metadata": {
        "id": "Dk0cXsrUuFeX"
      },
      "execution_count": null,
      "outputs": []
    },
    {
      "cell_type": "code",
      "source": [
        "# Set"
      ],
      "metadata": {
        "id": "ob5gIpgl1Cwd"
      },
      "execution_count": null,
      "outputs": []
    },
    {
      "cell_type": "code",
      "source": [
        "my_set = {1, 2, 3,2,3,3}\n",
        "print(my_set)\n",
        "\n",
        "# set of mixed datatypes\n",
        "my_set1 = {1.0, \"Hello\", (1, 2, 3, 4, 4), (1, 2, 3, 4, 4)}\n",
        "print(my_set1)"
      ],
      "metadata": {
        "colab": {
          "base_uri": "https://localhost:8080/"
        },
        "id": "INB3yi2s1C6b",
        "outputId": "8bddbdc1-28bf-414c-ce2d-eee4a1756dde"
      },
      "execution_count": null,
      "outputs": [
        {
          "output_type": "stream",
          "name": "stdout",
          "text": [
            "{1, 2, 3}\n",
            "{1.0, (1, 2, 3, 4, 4), 'Hello'}\n"
          ]
        }
      ]
    },
    {
      "cell_type": "code",
      "source": [
        "# initialize my_set\n",
        "my_set = {1, 3}\n",
        "print(my_set)\n",
        "\n",
        "# my_set[0]\n",
        "# if you uncomment the above line\n",
        "# you will get an error\n",
        "# TypeError: 'set' object does not support indexing\n",
        "\n",
        "# add an element\n",
        "# Output: {1, 2, 3}\n",
        "my_set.add(2)\n",
        "print(my_set)\n",
        "\n",
        "# add multiple elements\n",
        "# Output: {1, 2, 3, 4}\n",
        "my_set.update([2, 3, 4])\n",
        "print(my_set)\n",
        "\n",
        "# add list and set\n",
        "# Output: {1, 2, 3, 4, 5, 6, 8}\n",
        "my_set.update([4, 5], {1, 6, 8})\n",
        "print(my_set)"
      ],
      "metadata": {
        "colab": {
          "base_uri": "https://localhost:8080/"
        },
        "id": "ZE_2LXha2_W3",
        "outputId": "64e63045-1d2a-4f21-b62a-664794a03a8d"
      },
      "execution_count": null,
      "outputs": [
        {
          "output_type": "stream",
          "name": "stdout",
          "text": [
            "{1, 3}\n",
            "{1, 2, 3}\n",
            "{1, 2, 3, 4}\n",
            "{1, 2, 3, 4, 5, 6, 8}\n"
          ]
        }
      ]
    },
    {
      "cell_type": "code",
      "source": [
        "# Difference between discard() and remove()\n",
        "\n",
        "# initialize my_set\n",
        "my_set = {1, 3, 4, 5, 6}\n",
        "print(my_set)\n",
        "\n",
        "# discard an element\n",
        "# Output: {1, 3, 5, 6}\n",
        "my_set.discard(4)\n",
        "print(my_set)\n",
        "\n",
        "# remove an element\n",
        "# Output: {1, 3, 5}\n",
        "my_set.remove(6)\n",
        "print(my_set)\n",
        "\n",
        "# discard an element\n",
        "# not present in my_set\n",
        "# Output: {1, 3, 5}\n",
        "my_set.discard(2)\n",
        "print(my_set)\n",
        "\n",
        "# remove an element\n",
        "# not present in my_set\n",
        "# you will get an error.\n",
        "# Output: KeyError\n",
        "\n",
        "#my_set.remove(2)"
      ],
      "metadata": {
        "colab": {
          "base_uri": "https://localhost:8080/"
        },
        "id": "ysRBzHJ43hcN",
        "outputId": "997ef65e-419f-4064-95c7-9f80d7586d3f"
      },
      "execution_count": null,
      "outputs": [
        {
          "output_type": "stream",
          "name": "stdout",
          "text": [
            "{1, 3, 4, 5, 6}\n",
            "{1, 3, 5, 6}\n",
            "{1, 3, 5}\n",
            "{1, 3, 5}\n"
          ]
        }
      ]
    },
    {
      "cell_type": "code",
      "source": [
        "# initialize my_set\n",
        "# Output: set of unique elements\n",
        "my_set = set(\"HelloWorld\")\n",
        "print(my_set)\n",
        "\n",
        "# pop an element\n",
        "# Output: random element\n",
        "print(my_set.pop())\n",
        "\n",
        "# pop another element\n",
        "my_set.pop()\n",
        "print(my_set)\n",
        "\n",
        "# clear my_set\n",
        "# Output: set()\n",
        "my_set.clear()\n",
        "print(my_set)"
      ],
      "metadata": {
        "colab": {
          "base_uri": "https://localhost:8080/"
        },
        "id": "Itk9q5Iz4fOs",
        "outputId": "d9235fd4-d44a-4265-8d05-1ac6b42c8d89"
      },
      "execution_count": null,
      "outputs": [
        {
          "output_type": "stream",
          "name": "stdout",
          "text": [
            "{'W', 'd', 'H', 'l', 'o', 'r', 'e'}\n",
            "W\n",
            "{'H', 'l', 'o', 'r', 'e'}\n",
            "set()\n"
          ]
        }
      ]
    },
    {
      "cell_type": "code",
      "source": [
        "my_set[2][1]"
      ],
      "metadata": {
        "colab": {
          "base_uri": "https://localhost:8080/",
          "height": 169
        },
        "id": "wEdwBuah1-lH",
        "outputId": "07b5074e-4094-43f4-c97f-7eca507f740d"
      },
      "execution_count": null,
      "outputs": [
        {
          "output_type": "error",
          "ename": "TypeError",
          "evalue": "ignored",
          "traceback": [
            "\u001b[0;31m---------------------------------------------------------------------------\u001b[0m",
            "\u001b[0;31mTypeError\u001b[0m                                 Traceback (most recent call last)",
            "\u001b[0;32m<ipython-input-53-009fb47f659f>\u001b[0m in \u001b[0;36m<module>\u001b[0;34m()\u001b[0m\n\u001b[0;32m----> 1\u001b[0;31m \u001b[0mmy_set\u001b[0m\u001b[0;34m[\u001b[0m\u001b[0;36m2\u001b[0m\u001b[0;34m]\u001b[0m\u001b[0;34m[\u001b[0m\u001b[0;36m1\u001b[0m\u001b[0;34m]\u001b[0m\u001b[0;34m\u001b[0m\u001b[0;34m\u001b[0m\u001b[0m\n\u001b[0m",
            "\u001b[0;31mTypeError\u001b[0m: 'set' object is not subscriptable"
          ]
        }
      ]
    },
    {
      "cell_type": "code",
      "source": [
        "A = {1, 2, 3, 4, 5}\n",
        "B = {4, 5, 6, 7, 8}"
      ],
      "metadata": {
        "id": "ltQ2FAgo4zFI"
      },
      "execution_count": null,
      "outputs": []
    },
    {
      "cell_type": "code",
      "source": [
        "# Set union method\n",
        "# initialize A and B\n",
        "A = {1, 2, 3, 4, 5}\n",
        "B = {4, 5, 6, 7, 8}\n",
        "\n",
        "# use | operator\n",
        "# Output: {1, 2, 3, 4, 5, 6, 7, 8}\n",
        "print(A | B)"
      ],
      "metadata": {
        "colab": {
          "base_uri": "https://localhost:8080/"
        },
        "id": "6tmmBMOl2vo2",
        "outputId": "60ce9f78-9dd3-4a03-9718-7e83c5764989"
      },
      "execution_count": null,
      "outputs": [
        {
          "output_type": "stream",
          "name": "stdout",
          "text": [
            "{1, 2, 3, 4, 5, 6, 7, 8}\n"
          ]
        }
      ]
    },
    {
      "cell_type": "code",
      "source": [
        "A.union(B)"
      ],
      "metadata": {
        "colab": {
          "base_uri": "https://localhost:8080/"
        },
        "id": "IZD8wMl44-61",
        "outputId": "26676250-9b14-4e74-adfe-51196804423f"
      },
      "execution_count": null,
      "outputs": [
        {
          "output_type": "execute_result",
          "data": {
            "text/plain": [
              "{1, 2, 3, 4, 5, 6, 7, 8}"
            ]
          },
          "metadata": {},
          "execution_count": 65
        }
      ]
    },
    {
      "cell_type": "code",
      "source": [
        "B.union(A)"
      ],
      "metadata": {
        "colab": {
          "base_uri": "https://localhost:8080/"
        },
        "id": "pzK35Y2R5Gh0",
        "outputId": "29f67285-5dc8-42af-d673-fa4ac8d3aeb0"
      },
      "execution_count": null,
      "outputs": [
        {
          "output_type": "execute_result",
          "data": {
            "text/plain": [
              "{1, 2, 3, 4, 5, 6, 7, 8}"
            ]
          },
          "metadata": {},
          "execution_count": 66
        }
      ]
    },
    {
      "cell_type": "code",
      "source": [
        "#Intersection\n",
        "print(A & B)\n"
      ],
      "metadata": {
        "colab": {
          "base_uri": "https://localhost:8080/"
        },
        "id": "NVg98Pui5Ph3",
        "outputId": "1299d253-dc65-42f3-9c12-dbc18d7a471e"
      },
      "execution_count": null,
      "outputs": [
        {
          "output_type": "stream",
          "name": "stdout",
          "text": [
            "{4, 5}\n"
          ]
        }
      ]
    },
    {
      "cell_type": "code",
      "source": [
        "A"
      ],
      "metadata": {
        "colab": {
          "base_uri": "https://localhost:8080/"
        },
        "id": "D-UTfRd55rkR",
        "outputId": "32945145-1704-49d6-d429-ebbb47cd71b8"
      },
      "execution_count": null,
      "outputs": [
        {
          "output_type": "execute_result",
          "data": {
            "text/plain": [
              "{1, 2, 3, 4, 5}"
            ]
          },
          "metadata": {},
          "execution_count": 71
        }
      ]
    },
    {
      "cell_type": "code",
      "source": [
        "B"
      ],
      "metadata": {
        "colab": {
          "base_uri": "https://localhost:8080/"
        },
        "id": "ssDno3wA5rnf",
        "outputId": "0fb3bc1a-50a3-472f-b0a5-a6a7e5458aae"
      },
      "execution_count": null,
      "outputs": [
        {
          "output_type": "execute_result",
          "data": {
            "text/plain": [
              "{4, 5, 6, 7, 8}"
            ]
          },
          "metadata": {},
          "execution_count": 70
        }
      ]
    },
    {
      "cell_type": "code",
      "source": [
        "print(A - B)"
      ],
      "metadata": {
        "colab": {
          "base_uri": "https://localhost:8080/"
        },
        "id": "cD01NcDZ5Z1o",
        "outputId": "390304e3-8606-417f-d279-fa008b66aec8"
      },
      "execution_count": null,
      "outputs": [
        {
          "output_type": "stream",
          "name": "stdout",
          "text": [
            "{1, 2, 3}\n"
          ]
        }
      ]
    },
    {
      "cell_type": "code",
      "source": [
        "A.difference(B)"
      ],
      "metadata": {
        "colab": {
          "base_uri": "https://localhost:8080/"
        },
        "id": "tEkKGTOa5p2l",
        "outputId": "25400aa9-04e8-4353-9ed0-7819f4856c3b"
      },
      "execution_count": null,
      "outputs": [
        {
          "output_type": "execute_result",
          "data": {
            "text/plain": [
              "{1, 2, 3}"
            ]
          },
          "metadata": {},
          "execution_count": 69
        }
      ]
    },
    {
      "cell_type": "code",
      "source": [
        "B.difference(A)"
      ],
      "metadata": {
        "colab": {
          "base_uri": "https://localhost:8080/"
        },
        "id": "zha6nusK5yDG",
        "outputId": "a8c6516a-068e-4a18-bf94-6cb0e871cefd"
      },
      "execution_count": null,
      "outputs": [
        {
          "output_type": "execute_result",
          "data": {
            "text/plain": [
              "{6, 7, 8}"
            ]
          },
          "metadata": {},
          "execution_count": 72
        }
      ]
    },
    {
      "cell_type": "code",
      "source": [
        "print(A ^ B)"
      ],
      "metadata": {
        "colab": {
          "base_uri": "https://localhost:8080/"
        },
        "id": "IsUTZgMe59IE",
        "outputId": "532ec49f-3778-4d8a-cf8f-2fc0d15beec1"
      },
      "execution_count": null,
      "outputs": [
        {
          "output_type": "stream",
          "name": "stdout",
          "text": [
            "{1, 2, 3, 6, 7, 8}\n"
          ]
        }
      ]
    },
    {
      "cell_type": "code",
      "source": [
        "A.symmetric_difference(B)"
      ],
      "metadata": {
        "colab": {
          "base_uri": "https://localhost:8080/"
        },
        "id": "pTLoiq7_6K8v",
        "outputId": "27fa5e32-4feb-40b5-f89d-75c2d6704c0f"
      },
      "execution_count": null,
      "outputs": [
        {
          "output_type": "execute_result",
          "data": {
            "text/plain": [
              "{1, 2, 3, 6, 7, 8}"
            ]
          },
          "metadata": {},
          "execution_count": 74
        }
      ]
    },
    {
      "cell_type": "code",
      "source": [
        "max(A)"
      ],
      "metadata": {
        "colab": {
          "base_uri": "https://localhost:8080/"
        },
        "id": "DFhzxfV87Vzq",
        "outputId": "1008ba44-6c7a-4714-dfbc-04f436152208"
      },
      "execution_count": null,
      "outputs": [
        {
          "output_type": "execute_result",
          "data": {
            "text/plain": [
              "5"
            ]
          },
          "metadata": {},
          "execution_count": 76
        }
      ]
    },
    {
      "cell_type": "code",
      "source": [
        "# empty dictionary\n",
        "my_dict = {}\n",
        "\n",
        "# dictionary with integer keys\n",
        "my_dict1 = {1: 'apple', 2: 'ball'}\n",
        "\n",
        "# dictionary with mixed keys\n",
        "my_dict2 = {'name': 'John', 1: [2, 4, 3]}\n",
        "\n",
        "# using dict()\n",
        "my_dict3 = dict({1:'apple', 2:'ball'})\n",
        "\n",
        "# from sequence having each item as a pair\n",
        "my_dict4 = dict([(1,'apple'), (2,'ball')])"
      ],
      "metadata": {
        "id": "XSoPwqHq71pB"
      },
      "execution_count": null,
      "outputs": []
    },
    {
      "cell_type": "code",
      "source": [
        "print (my_dict)"
      ],
      "metadata": {
        "colab": {
          "base_uri": "https://localhost:8080/"
        },
        "id": "6vLhFKUa710l",
        "outputId": "5c64eb56-c578-434f-b1f4-c4acac3f7edb"
      },
      "execution_count": null,
      "outputs": [
        {
          "output_type": "stream",
          "name": "stdout",
          "text": [
            "{1: 'apple', 2: 'ball'}\n"
          ]
        }
      ]
    },
    {
      "cell_type": "code",
      "source": [
        "print (my_dict1)\n",
        "print (my_dict2)\n",
        "print (my_dict3)"
      ],
      "metadata": {
        "colab": {
          "base_uri": "https://localhost:8080/"
        },
        "id": "wfylTYS_8kSU",
        "outputId": "38a68597-8f67-402c-b850-1e8977df9713"
      },
      "execution_count": null,
      "outputs": [
        {
          "output_type": "stream",
          "name": "stdout",
          "text": [
            "{1: 'apple', 2: 'ball'}\n",
            "{'name': 'John', 1: [2, 4, 3]}\n",
            "{1: 'apple', 2: 'ball'}\n"
          ]
        }
      ]
    },
    {
      "cell_type": "code",
      "source": [
        "# get vs [] for retrieving elements\n",
        "my_dict = {'name': 'Jack', 'age': 26}\n",
        "\n",
        "# Output: Jack\n",
        "print(my_dict['name'])\n",
        "\n",
        "# Output: 26\n",
        "print(my_dict.get('age'))\n",
        "\n",
        "# Trying to access keys which doesn't exist throws error\n",
        "# Output None\n",
        "print(my_dict.get('address'))\n",
        "\n",
        "# KeyError\n",
        "print(my_dict['address'])"
      ],
      "metadata": {
        "colab": {
          "base_uri": "https://localhost:8080/",
          "height": 258
        },
        "id": "-9i_zELe8x2u",
        "outputId": "1baacc67-d73c-4218-9167-8c7cfa440536"
      },
      "execution_count": null,
      "outputs": [
        {
          "output_type": "stream",
          "name": "stdout",
          "text": [
            "Jack\n",
            "26\n",
            "None\n"
          ]
        },
        {
          "output_type": "error",
          "ename": "KeyError",
          "evalue": "ignored",
          "traceback": [
            "\u001b[0;31m---------------------------------------------------------------------------\u001b[0m",
            "\u001b[0;31mKeyError\u001b[0m                                  Traceback (most recent call last)",
            "\u001b[0;32m<ipython-input-86-2ec6dc01caba>\u001b[0m in \u001b[0;36m<module>\u001b[0;34m()\u001b[0m\n\u001b[1;32m     13\u001b[0m \u001b[0;34m\u001b[0m\u001b[0m\n\u001b[1;32m     14\u001b[0m \u001b[0;31m# KeyError\u001b[0m\u001b[0;34m\u001b[0m\u001b[0;34m\u001b[0m\u001b[0;34m\u001b[0m\u001b[0m\n\u001b[0;32m---> 15\u001b[0;31m \u001b[0mprint\u001b[0m\u001b[0;34m(\u001b[0m\u001b[0mmy_dict\u001b[0m\u001b[0;34m[\u001b[0m\u001b[0;34m'address'\u001b[0m\u001b[0;34m]\u001b[0m\u001b[0;34m)\u001b[0m\u001b[0;34m\u001b[0m\u001b[0;34m\u001b[0m\u001b[0m\n\u001b[0m",
            "\u001b[0;31mKeyError\u001b[0m: 'address'"
          ]
        }
      ]
    },
    {
      "cell_type": "code",
      "source": [
        "# Changing and adding Dictionary Elements\n",
        "my_dict = {'name': 'Jack', 'age': 26}\n",
        "\n",
        "# update value\n",
        "my_dict['age'] = 27\n",
        "\n",
        "#Output: {'age': 27, 'name': 'Jack'}\n",
        "print(my_dict)\n",
        "\n",
        "# add item\n",
        "my_dict['address'] = 'Downtown'\n",
        "\n",
        "# Output: {'address': 'Downtown', 'age': 27, 'name': 'Jack'}\n",
        "print(my_dict)"
      ],
      "metadata": {
        "colab": {
          "base_uri": "https://localhost:8080/"
        },
        "id": "DTvKHSbU9V1D",
        "outputId": "c21ee5ca-281e-4e72-ac6f-ee29cb1069f8"
      },
      "execution_count": null,
      "outputs": [
        {
          "output_type": "stream",
          "name": "stdout",
          "text": [
            "{'name': 'Jack', 'age': 27}\n",
            "{'name': 'Jack', 'age': 27, 'address': 'Downtown'}\n"
          ]
        }
      ]
    },
    {
      "cell_type": "code",
      "source": [
        "# Removing elements from a dictionary\n",
        "# create a dictionary\n",
        "squares = {1: 1, 2: 4, 3: 9, 4: 16, 5: 25}\n",
        "\n",
        "# remove a particular item, returns its value\n",
        "# Output: 16\n",
        "print(squares.pop(4))\n",
        "\n",
        "# Output: {1: 1, 2: 4, 3: 9, 5: 25}\n",
        "print(squares)\n",
        "\n",
        "# remove an arbitrary item, return (key,value)\n",
        "# Output: (5, 25)\n",
        "print(squares.popitem())\n",
        "\n",
        "# Output: {1: 1, 2: 4, 3: 9}\n",
        "print(squares)\n",
        "\n",
        "# remove all items\n",
        "squares.clear()\n",
        "\n",
        "# Output: {}\n",
        "print(squares)\n",
        "\n",
        "# delete the dictionary itself\n",
        "del squares\n",
        "\n",
        "# Throws Error\n",
        "print(squares)"
      ],
      "metadata": {
        "colab": {
          "base_uri": "https://localhost:8080/",
          "height": 294
        },
        "id": "PoSQB-vu9nAj",
        "outputId": "9e9c24a5-73a9-418a-82e8-cbbc41fe8962"
      },
      "execution_count": null,
      "outputs": [
        {
          "output_type": "stream",
          "name": "stdout",
          "text": [
            "16\n",
            "{1: 1, 2: 4, 3: 9, 5: 25}\n",
            "(5, 25)\n",
            "{1: 1, 2: 4, 3: 9}\n",
            "{}\n"
          ]
        },
        {
          "output_type": "error",
          "ename": "NameError",
          "evalue": "ignored",
          "traceback": [
            "\u001b[0;31m---------------------------------------------------------------------------\u001b[0m",
            "\u001b[0;31mNameError\u001b[0m                                 Traceback (most recent call last)",
            "\u001b[0;32m<ipython-input-88-d119a0a5b684>\u001b[0m in \u001b[0;36m<module>\u001b[0;34m()\u001b[0m\n\u001b[1;32m     28\u001b[0m \u001b[0;34m\u001b[0m\u001b[0m\n\u001b[1;32m     29\u001b[0m \u001b[0;31m# Throws Error\u001b[0m\u001b[0;34m\u001b[0m\u001b[0;34m\u001b[0m\u001b[0;34m\u001b[0m\u001b[0m\n\u001b[0;32m---> 30\u001b[0;31m \u001b[0mprint\u001b[0m\u001b[0;34m(\u001b[0m\u001b[0msquares\u001b[0m\u001b[0;34m)\u001b[0m\u001b[0;34m\u001b[0m\u001b[0;34m\u001b[0m\u001b[0m\n\u001b[0m",
            "\u001b[0;31mNameError\u001b[0m: name 'squares' is not defined"
          ]
        }
      ]
    },
    {
      "cell_type": "code",
      "source": [
        "# Dictionary Methods\n",
        "marks = {}.fromkeys(['Math', 'English', 'Science'], 0)\n",
        "\n",
        "# Output: {'English': 0, 'Math': 0, 'Science': 0}\n",
        "print(marks)\n",
        "\n",
        "for item in marks.items():\n",
        "    print(item)\n",
        "\n",
        "# Output: ['English', 'Math', 'Science']\n",
        "print(list(sorted(marks.keys())))"
      ],
      "metadata": {
        "colab": {
          "base_uri": "https://localhost:8080/",
          "height": 276
        },
        "id": "hXdXefPb-s72",
        "outputId": "13081a35-b88e-4d1a-c686-f665a963e609"
      },
      "execution_count": null,
      "outputs": [
        {
          "output_type": "stream",
          "name": "stdout",
          "text": [
            "{'Math': 0, 'English': 0, 'Science': 0}\n",
            "('Math', 0)\n",
            "('English', 0)\n",
            "('Science', 0)\n"
          ]
        },
        {
          "output_type": "error",
          "ename": "TypeError",
          "evalue": "ignored",
          "traceback": [
            "\u001b[0;31m---------------------------------------------------------------------------\u001b[0m",
            "\u001b[0;31mTypeError\u001b[0m                                 Traceback (most recent call last)",
            "\u001b[0;32m<ipython-input-89-34e218fc7039>\u001b[0m in \u001b[0;36m<module>\u001b[0;34m()\u001b[0m\n\u001b[1;32m      9\u001b[0m \u001b[0;34m\u001b[0m\u001b[0m\n\u001b[1;32m     10\u001b[0m \u001b[0;31m# Output: ['English', 'Math', 'Science']\u001b[0m\u001b[0;34m\u001b[0m\u001b[0;34m\u001b[0m\u001b[0;34m\u001b[0m\u001b[0m\n\u001b[0;32m---> 11\u001b[0;31m \u001b[0mprint\u001b[0m\u001b[0;34m(\u001b[0m\u001b[0mlist\u001b[0m\u001b[0;34m(\u001b[0m\u001b[0msorted\u001b[0m\u001b[0;34m(\u001b[0m\u001b[0mmarks\u001b[0m\u001b[0;34m.\u001b[0m\u001b[0mkeys\u001b[0m\u001b[0;34m(\u001b[0m\u001b[0;34m)\u001b[0m\u001b[0;34m)\u001b[0m\u001b[0;34m)\u001b[0m\u001b[0;34m)\u001b[0m\u001b[0;34m\u001b[0m\u001b[0;34m\u001b[0m\u001b[0m\n\u001b[0m",
            "\u001b[0;31mTypeError\u001b[0m: 'list' object is not callable"
          ]
        }
      ]
    },
    {
      "cell_type": "code",
      "source": [
        "# Dictionary Comprehension\n",
        "squares = {x: x*x for x in range(6)}\n",
        "\n",
        "print(squares)"
      ],
      "metadata": {
        "colab": {
          "base_uri": "https://localhost:8080/"
        },
        "id": "ig6CTHgt-3nM",
        "outputId": "78dba0bd-c3ec-4a1c-cf48-645953a9f503"
      },
      "execution_count": null,
      "outputs": [
        {
          "output_type": "stream",
          "name": "stdout",
          "text": [
            "{0: 0, 1: 1, 2: 4, 3: 9, 4: 16, 5: 25}\n"
          ]
        }
      ]
    },
    {
      "cell_type": "code",
      "source": [
        "# Dictionary Comprehension with if conditional\n",
        "odd_squares = {x: x*x for x in range(11) if x % 2 == 1}\n",
        "\n",
        "print(odd_squares)"
      ],
      "metadata": {
        "colab": {
          "base_uri": "https://localhost:8080/"
        },
        "id": "bdXusCU3-91P",
        "outputId": "c7a35313-a3e7-4d70-bb93-4744a4014d00"
      },
      "execution_count": null,
      "outputs": [
        {
          "output_type": "stream",
          "name": "stdout",
          "text": [
            "{1: 1, 3: 9, 5: 25, 7: 49, 9: 81}\n"
          ]
        }
      ]
    },
    {
      "cell_type": "code",
      "source": [
        "# Membership Test for Dictionary Keys\n",
        "squares = {1: 1, 3: 9, 5: 25, 7: 49, 9: 81}\n",
        "\n",
        "# Output: True\n",
        "print(1 in squares)\n",
        "\n",
        "# Output: True\n",
        "print(2 not in squares)\n",
        "\n",
        "# membership tests for key only not value\n",
        "# Output: False\n",
        "print(49 in squares)"
      ],
      "metadata": {
        "colab": {
          "base_uri": "https://localhost:8080/"
        },
        "id": "aGOMSjA4_ELf",
        "outputId": "078288fd-ef24-471b-e9f2-6cf632b1d774"
      },
      "execution_count": null,
      "outputs": [
        {
          "output_type": "stream",
          "name": "stdout",
          "text": [
            "True\n",
            "True\n",
            "False\n"
          ]
        }
      ]
    },
    {
      "cell_type": "code",
      "source": [
        "# Iterating through a Dictionary\n",
        "squares = {1: 1, 3: 9, 5: 25, 7: 49, 9: 81}\n",
        "for i in squares:\n",
        "    print(squares[i])"
      ],
      "metadata": {
        "colab": {
          "base_uri": "https://localhost:8080/"
        },
        "id": "OIBmQxyM_JSC",
        "outputId": "4b998a70-1276-4273-8889-0f252214eb07"
      },
      "execution_count": null,
      "outputs": [
        {
          "output_type": "stream",
          "name": "stdout",
          "text": [
            "1\n",
            "9\n",
            "25\n",
            "49\n",
            "81\n"
          ]
        }
      ]
    },
    {
      "cell_type": "code",
      "source": [
        "# Dictionary Built-in Functions\n",
        "squares = {0: 0, 1: 1, 3: 9, 5: 25, 7: 49, 9: 81}\n",
        "\n",
        "print(len(squares))\n",
        "\n",
        "# Output: [0, 1, 3, 5, 7, 9]\n",
        "print(sorted(squares))"
      ],
      "metadata": {
        "colab": {
          "base_uri": "https://localhost:8080/"
        },
        "id": "QIdTo6PJAExM",
        "outputId": "aa32a9bf-ce75-440d-cfc4-4bca8677c6d4"
      },
      "execution_count": null,
      "outputs": [
        {
          "output_type": "stream",
          "name": "stdout",
          "text": [
            "6\n",
            "[0, 1, 3, 5, 7, 9]\n"
          ]
        }
      ]
    },
    {
      "cell_type": "code",
      "source": [
        "\"\"\"Exercise\n",
        "\n",
        "Input: list = [1, 2, 3]\n",
        "Output: [(1, 1), (2, 8), (3, 27)]\n",
        "\n",
        "Input: list = [9, 5, 6]\n",
        "Output: [(9, 729), (5, 125), (6, 216)]\"\"\""
      ],
      "metadata": {
        "colab": {
          "base_uri": "https://localhost:8080/",
          "height": 35
        },
        "id": "Jk87a0RVAtXC",
        "outputId": "a2afacdd-f74e-487a-8510-993de03acc70"
      },
      "execution_count": null,
      "outputs": [
        {
          "output_type": "execute_result",
          "data": {
            "text/plain": [
              "'Exercise\\n\\nInput: list = [1, 2, 3]\\nOutput: [(1, 1), (2, 8), (3, 27)]\\n\\nInput: list = [9, 5, 6]\\nOutput: [(9, 729), (5, 125), (6, 216)]'"
            ],
            "application/vnd.google.colaboratory.intrinsic+json": {
              "type": "string"
            }
          },
          "metadata": {},
          "execution_count": 97
        }
      ]
    },
    {
      "cell_type": "code",
      "source": [
        "\"\"\"\n",
        "Given two lists a, b. Check if two lists have at least one element common in them.\n",
        "\n",
        "Examples:\n",
        "\n",
        "Input : a = [1, 2, 3, 4, 5]\n",
        "        b = [5, 6, 7, 8, 9]\n",
        "Output : True\n",
        "\n",
        "Input : a=[1, 2, 3, 4, 5]\n",
        "        b=[6, 7, 8, 9]\n",
        "Output : False \"\"\""
      ],
      "metadata": {
        "colab": {
          "base_uri": "https://localhost:8080/",
          "height": 53
        },
        "id": "60ZqQwOaAtaI",
        "outputId": "1cfd7fa5-85ee-4bea-9d73-60b15844ef66"
      },
      "execution_count": null,
      "outputs": [
        {
          "output_type": "execute_result",
          "data": {
            "text/plain": [
              "'\\nGiven two lists a, b. Check if two lists have at least one element common in them.\\n\\nExamples:\\n\\nInput : a = [1, 2, 3, 4, 5]\\n        b = [5, 6, 7, 8, 9]\\nOutput : True\\n\\nInput : a=[1, 2, 3, 4, 5]\\n        b=[6, 7, 8, 9]\\nOutput : False '"
            ],
            "application/vnd.google.colaboratory.intrinsic+json": {
              "type": "string"
            }
          },
          "metadata": {},
          "execution_count": 96
        }
      ]
    },
    {
      "cell_type": "code",
      "source": [
        "\"\"\" The original tuple is : (7, 8, 9, 1, 10, 7)\n",
        "The summation of tuple elements are : 42"
      ],
      "metadata": {
        "id": "SyIgxob6DT15"
      },
      "execution_count": null,
      "outputs": []
    },
    {
      "cell_type": "code",
      "source": [
        "\"\"\"Given three arrays, we have to find common elements in three sorted lists using sets.\n",
        "\n",
        "Examples :\n",
        "\n",
        "Input : ar1 = [1, 5, 10, 20, 40, 80]\n",
        "        ar2 = [6, 7, 20, 80, 100]\n",
        "        ar3 = [3, 4, 15, 20, 30, 70, 80, 120]\n",
        "\n",
        "Output : [80, 20]\n",
        "\n",
        "Input : ar1 = [1, 5, 5]\n",
        "        ar2 = [3, 4, 5, 5, 10]\n",
        "        ar3 = [5, 5, 10, 20]\n",
        "\n",
        "Output : [5]\"\""
      ],
      "metadata": {
        "id": "mk5IkLdkEGiP"
      },
      "execution_count": null,
      "outputs": []
    },
    {
      "cell_type": "code",
      "source": [
        "\"\"\"iven a dictionary in Python, write a Python program to find the sum of all items in the dictionary.\n",
        "\n",
        "Examples: \n",
        "\n",
        "Input : {‘a’: 100, ‘b’:200, ‘c’:300}\n",
        "Output : 600\n",
        "\n",
        "Input : {‘x’: 25, ‘y’:18, ‘z’:45}\n",
        "Output : 88\"\""
      ],
      "metadata": {
        "id": "5_vgdg4IE4be"
      },
      "execution_count": null,
      "outputs": []
    }
  ]
}