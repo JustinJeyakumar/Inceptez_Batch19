{
  "cells": [
    {
      "cell_type": "code",
      "execution_count": 1,
      "metadata": {
        "id": "Vl1S0cbwBScg"
      },
      "outputs": [],
      "source": [
        "import numpy as np"
      ]
    },
    {
      "cell_type": "code",
      "source": [
        "a = np.array([1,2,3,4,5,6,7,8,9])"
      ],
      "metadata": {
        "id": "qvlM8te9E4sK"
      },
      "execution_count": 10,
      "outputs": []
    },
    {
      "cell_type": "code",
      "source": [
        "type(a)"
      ],
      "metadata": {
        "colab": {
          "base_uri": "https://localhost:8080/"
        },
        "id": "Tp_o79P5FF4a",
        "outputId": "d0f272ee-90de-4d6d-ef7c-de815c2df0ba"
      },
      "execution_count": 3,
      "outputs": [
        {
          "output_type": "execute_result",
          "data": {
            "text/plain": [
              "numpy.ndarray"
            ]
          },
          "metadata": {},
          "execution_count": 3
        }
      ]
    },
    {
      "cell_type": "code",
      "source": [
        "a.shape"
      ],
      "metadata": {
        "colab": {
          "base_uri": "https://localhost:8080/"
        },
        "id": "F4R52LUAFIsd",
        "outputId": "03edd5aa-7c25-4290-9375-a0f269fffe7e"
      },
      "execution_count": 4,
      "outputs": [
        {
          "output_type": "execute_result",
          "data": {
            "text/plain": [
              "(4,)"
            ]
          },
          "metadata": {},
          "execution_count": 4
        }
      ]
    },
    {
      "cell_type": "code",
      "source": [
        "len(a)"
      ],
      "metadata": {
        "colab": {
          "base_uri": "https://localhost:8080/"
        },
        "id": "hRn9bHOnFR8q",
        "outputId": "0576f223-0db4-4285-bc21-1f9d88f0cb83"
      },
      "execution_count": 6,
      "outputs": [
        {
          "output_type": "execute_result",
          "data": {
            "text/plain": [
              "4"
            ]
          },
          "metadata": {},
          "execution_count": 6
        }
      ]
    },
    {
      "cell_type": "code",
      "source": [
        "# Properties of Matrix\n",
        "\n",
        "a = (3, 3)\n",
        "b = (3, 2)\n",
        "\n",
        "a = (3, 3)\n",
        "b = (3, 4)\n",
        "\n",
        "a = (3, 3)\n",
        "b = (1, 2)\n",
        "\n",
        "- do"
      ],
      "metadata": {
        "id": "db3fa3gyGojf"
      },
      "execution_count": null,
      "outputs": []
    },
    {
      "cell_type": "code",
      "source": [
        "b = a.reshape((3,3))"
      ],
      "metadata": {
        "id": "t3SPI7fxGcIu"
      },
      "execution_count": 11,
      "outputs": []
    },
    {
      "cell_type": "code",
      "source": [
        "b"
      ],
      "metadata": {
        "colab": {
          "base_uri": "https://localhost:8080/"
        },
        "id": "fZRATuz3Hdnl",
        "outputId": "9af102ad-3658-4921-81d1-5280437b8ba1"
      },
      "execution_count": 12,
      "outputs": [
        {
          "output_type": "execute_result",
          "data": {
            "text/plain": [
              "array([[1, 2, 3],\n",
              "       [4, 5, 6],\n",
              "       [7, 8, 9]])"
            ]
          },
          "metadata": {},
          "execution_count": 12
        }
      ]
    },
    {
      "cell_type": "code",
      "source": [
        "b[0, 0]"
      ],
      "metadata": {
        "colab": {
          "base_uri": "https://localhost:8080/"
        },
        "id": "tPVGRGymHhAw",
        "outputId": "81f735e8-34ef-4d42-a9ba-e12e48cd1b5f"
      },
      "execution_count": 16,
      "outputs": [
        {
          "output_type": "execute_result",
          "data": {
            "text/plain": [
              "1"
            ]
          },
          "metadata": {},
          "execution_count": 16
        }
      ]
    },
    {
      "cell_type": "code",
      "source": [
        "b[-3,0]"
      ],
      "metadata": {
        "colab": {
          "base_uri": "https://localhost:8080/"
        },
        "id": "bpSyIoC9JztK",
        "outputId": "17494155-33f7-4cc8-e6a0-9ebc26d2f9e3"
      },
      "execution_count": 17,
      "outputs": [
        {
          "output_type": "execute_result",
          "data": {
            "text/plain": [
              "1"
            ]
          },
          "metadata": {},
          "execution_count": 17
        }
      ]
    },
    {
      "cell_type": "code",
      "source": [
        "b[0,-3]"
      ],
      "metadata": {
        "colab": {
          "base_uri": "https://localhost:8080/"
        },
        "id": "ix2LZ4gRJ3Wf",
        "outputId": "93de32c0-098a-40f2-ea23-368ee81fddc0"
      },
      "execution_count": 18,
      "outputs": [
        {
          "output_type": "execute_result",
          "data": {
            "text/plain": [
              "1"
            ]
          },
          "metadata": {},
          "execution_count": 18
        }
      ]
    },
    {
      "cell_type": "code",
      "source": [
        "b[-3,-3]"
      ],
      "metadata": {
        "colab": {
          "base_uri": "https://localhost:8080/"
        },
        "id": "PEdmxzflKLur",
        "outputId": "3184ae6f-2e3c-421e-d28e-53f06a4f382c"
      },
      "execution_count": 19,
      "outputs": [
        {
          "output_type": "execute_result",
          "data": {
            "text/plain": [
              "1"
            ]
          },
          "metadata": {},
          "execution_count": 19
        }
      ]
    },
    {
      "cell_type": "code",
      "source": [
        "b[2, 1]"
      ],
      "metadata": {
        "colab": {
          "base_uri": "https://localhost:8080/"
        },
        "id": "4gkWDT6aHhKQ",
        "outputId": "a942b59e-ebbf-4dc4-bc84-040a0da826d9"
      },
      "execution_count": 15,
      "outputs": [
        {
          "output_type": "execute_result",
          "data": {
            "text/plain": [
              "8"
            ]
          },
          "metadata": {},
          "execution_count": 15
        }
      ]
    },
    {
      "cell_type": "code",
      "source": [
        "b[3, -1]"
      ],
      "metadata": {
        "id": "oUyadMlVHhay"
      },
      "execution_count": null,
      "outputs": []
    },
    {
      "cell_type": "code",
      "source": [
        "b[0:2, 1]"
      ],
      "metadata": {
        "colab": {
          "base_uri": "https://localhost:8080/"
        },
        "id": "YKcJ_WFAJIb6",
        "outputId": "2b3a589d-5cca-4033-af97-fc80d187d1f0"
      },
      "execution_count": 20,
      "outputs": [
        {
          "output_type": "execute_result",
          "data": {
            "text/plain": [
              "array([2, 5])"
            ]
          },
          "metadata": {},
          "execution_count": 20
        }
      ]
    },
    {
      "cell_type": "code",
      "source": [
        "b[1, 1:]"
      ],
      "metadata": {
        "colab": {
          "base_uri": "https://localhost:8080/"
        },
        "id": "QmQpnOtqKcZ4",
        "outputId": "92297c6f-edd6-4e26-855d-4e2e95f0a74a"
      },
      "execution_count": 21,
      "outputs": [
        {
          "output_type": "execute_result",
          "data": {
            "text/plain": [
              "array([5, 6])"
            ]
          },
          "metadata": {},
          "execution_count": 21
        }
      ]
    },
    {
      "cell_type": "code",
      "source": [
        "b[1:, 1:]"
      ],
      "metadata": {
        "colab": {
          "base_uri": "https://localhost:8080/"
        },
        "id": "7owb2Jt6Kcc-",
        "outputId": "4cee6124-e4a8-474f-a86c-6338abe797c5"
      },
      "execution_count": 22,
      "outputs": [
        {
          "output_type": "execute_result",
          "data": {
            "text/plain": [
              "array([[5, 6],\n",
              "       [8, 9]])"
            ]
          },
          "metadata": {},
          "execution_count": 22
        }
      ]
    },
    {
      "cell_type": "code",
      "source": [
        "b[0:, 1:]"
      ],
      "metadata": {
        "colab": {
          "base_uri": "https://localhost:8080/"
        },
        "id": "k_emjVP6JIfJ",
        "outputId": "f910217f-4aea-46cd-8509-119f0728e2b8"
      },
      "execution_count": 23,
      "outputs": [
        {
          "output_type": "execute_result",
          "data": {
            "text/plain": [
              "array([[2, 3],\n",
              "       [5, 6],\n",
              "       [8, 9]])"
            ]
          },
          "metadata": {},
          "execution_count": 23
        }
      ]
    },
    {
      "cell_type": "code",
      "source": [
        "b[:, :2]"
      ],
      "metadata": {
        "colab": {
          "base_uri": "https://localhost:8080/"
        },
        "id": "y5l2BxQoGgV9",
        "outputId": "66a0b2ed-cd00-4df5-844f-0bfb6a6687e0"
      },
      "execution_count": 24,
      "outputs": [
        {
          "output_type": "execute_result",
          "data": {
            "text/plain": [
              "array([[1, 2],\n",
              "       [4, 5],\n",
              "       [7, 8]])"
            ]
          },
          "metadata": {},
          "execution_count": 24
        }
      ]
    },
    {
      "cell_type": "code",
      "source": [
        "b"
      ],
      "metadata": {
        "colab": {
          "base_uri": "https://localhost:8080/"
        },
        "id": "jVb0llgfNk-d",
        "outputId": "0c62105b-e609-4d73-e6c7-35fd9290b05d"
      },
      "execution_count": 28,
      "outputs": [
        {
          "output_type": "execute_result",
          "data": {
            "text/plain": [
              "array([[1, 2, 3],\n",
              "       [4, 5, 6],\n",
              "       [7, 8, 9]])"
            ]
          },
          "metadata": {},
          "execution_count": 28
        }
      ]
    },
    {
      "cell_type": "code",
      "source": [
        "b[:, ::2]"
      ],
      "metadata": {
        "colab": {
          "base_uri": "https://localhost:8080/"
        },
        "id": "YmI8bBvYL8bC",
        "outputId": "acd365a2-1912-4db5-9156-c57d89cec0c5"
      },
      "execution_count": 26,
      "outputs": [
        {
          "output_type": "execute_result",
          "data": {
            "text/plain": [
              "array([[1, 3],\n",
              "       [4, 6],\n",
              "       [7, 9]])"
            ]
          },
          "metadata": {},
          "execution_count": 26
        }
      ]
    },
    {
      "cell_type": "code",
      "source": [
        "b[1:, ::2]"
      ],
      "metadata": {
        "colab": {
          "base_uri": "https://localhost:8080/"
        },
        "id": "p9d4L8wmH7EX",
        "outputId": "b0d4a312-f25b-460e-b7f5-4608874c7ff2"
      },
      "execution_count": 27,
      "outputs": [
        {
          "output_type": "execute_result",
          "data": {
            "text/plain": [
              "array([[4, 6],\n",
              "       [7, 9]])"
            ]
          },
          "metadata": {},
          "execution_count": 27
        }
      ]
    },
    {
      "cell_type": "code",
      "source": [
        "b[::2, ::2]"
      ],
      "metadata": {
        "colab": {
          "base_uri": "https://localhost:8080/"
        },
        "id": "PWo9ELltNsgF",
        "outputId": "395c5c15-7791-405f-bad4-3ef5ee3f1703"
      },
      "execution_count": 29,
      "outputs": [
        {
          "output_type": "execute_result",
          "data": {
            "text/plain": [
              "array([[1, 3],\n",
              "       [7, 9]])"
            ]
          },
          "metadata": {},
          "execution_count": 29
        }
      ]
    },
    {
      "cell_type": "code",
      "source": [
        "from numpy import array, argmin, sqrt, sum\n"
      ],
      "metadata": {
        "id": "f2pcJU2MSZFc"
      },
      "execution_count": 30,
      "outputs": []
    },
    {
      "cell_type": "code",
      "source": [
        "observation = array([111.0, 188.0])\n",
        "codes = array([[102.0, 203.0],\n",
        "               [132.0, 193.0],\n",
        "               [45.0, 155.0],\n",
        "               [57.0, 173.0]])\n",
        "diff = codes - observation "
      ],
      "metadata": {
        "id": "S28_x1oSSZIB"
      },
      "execution_count": 31,
      "outputs": []
    },
    {
      "cell_type": "code",
      "source": [
        "diff"
      ],
      "metadata": {
        "colab": {
          "base_uri": "https://localhost:8080/"
        },
        "id": "o88mQzcHSZKw",
        "outputId": "f1a73b52-6ddf-44a3-a602-2b932ac0f3da"
      },
      "execution_count": 32,
      "outputs": [
        {
          "output_type": "execute_result",
          "data": {
            "text/plain": [
              "array([[ -9.,  15.],\n",
              "       [ 21.,   5.],\n",
              "       [-66., -33.],\n",
              "       [-54., -15.]])"
            ]
          },
          "metadata": {},
          "execution_count": 32
        }
      ]
    },
    {
      "cell_type": "code",
      "source": [
        ""
      ],
      "metadata": {
        "id": "lRGCb8mINsqW"
      },
      "execution_count": null,
      "outputs": []
    },
    {
      "cell_type": "code",
      "source": [
        "#scalar\n",
        "\n",
        "magnitude - values (100)"
      ],
      "metadata": {
        "id": "nfqgmWuZFjSD"
      },
      "execution_count": null,
      "outputs": []
    },
    {
      "cell_type": "code",
      "source": [
        "#vector\n",
        "#magnitude with direction\n"
      ],
      "metadata": {
        "id": "bLPqZrtsE4ul"
      },
      "execution_count": null,
      "outputs": []
    },
    {
      "cell_type": "code",
      "source": [
        "#tensor - Vectors of Vectors"
      ],
      "metadata": {
        "id": "6bCXNLN_E4w8"
      },
      "execution_count": null,
      "outputs": []
    },
    {
      "cell_type": "code",
      "source": [
        "import numpy as np\n",
        "import time \n",
        "import sys\n",
        "\n",
        "# Creating a NumPy array with 100 elements\n",
        "array = np.arange(100)\n",
        "# array.itemsize : Size of one element\n",
        "# array.size : length of array\n",
        "print(\"Size of NumPy array: \", array.size * array.itemsize)\n",
        "\n",
        "# Creating a list with 100 elements\n",
        "# Now I'll print the size of list\n",
        "list = range(0, 100)\n",
        "# Multiplying size of 1 element with length of the list\n",
        "print(\"Size of list: \", sys.getsizeof(1)*len(list))"
      ],
      "metadata": {
        "colab": {
          "base_uri": "https://localhost:8080/"
        },
        "id": "AKfIELOKE4zQ",
        "outputId": "f2ed7f5e-f889-42ed-ba0f-94574d40fd7d"
      },
      "execution_count": 33,
      "outputs": [
        {
          "output_type": "stream",
          "name": "stdout",
          "text": [
            "Size of NumPy array:  800\n",
            "Size of list:  2800\n"
          ]
        }
      ]
    },
    {
      "cell_type": "code",
      "source": [
        "array"
      ],
      "metadata": {
        "colab": {
          "base_uri": "https://localhost:8080/"
        },
        "id": "IWOPpHWrZM4C",
        "outputId": "3276f1f0-2960-4197-b39d-eaf4296849a6"
      },
      "execution_count": 36,
      "outputs": [
        {
          "output_type": "execute_result",
          "data": {
            "text/plain": [
              "array([ 0,  1,  2,  3,  4,  5,  6,  7,  8,  9, 10, 11, 12, 13, 14, 15, 16,\n",
              "       17, 18, 19, 20, 21, 22, 23, 24, 25, 26, 27, 28, 29, 30, 31, 32, 33,\n",
              "       34, 35, 36, 37, 38, 39, 40, 41, 42, 43, 44, 45, 46, 47, 48, 49, 50,\n",
              "       51, 52, 53, 54, 55, 56, 57, 58, 59, 60, 61, 62, 63, 64, 65, 66, 67,\n",
              "       68, 69, 70, 71, 72, 73, 74, 75, 76, 77, 78, 79, 80, 81, 82, 83, 84,\n",
              "       85, 86, 87, 88, 89, 90, 91, 92, 93, 94, 95, 96, 97, 98, 99])"
            ]
          },
          "metadata": {},
          "execution_count": 36
        }
      ]
    },
    {
      "cell_type": "code",
      "source": [
        "list"
      ],
      "metadata": {
        "colab": {
          "base_uri": "https://localhost:8080/"
        },
        "id": "VjwdEy9pZNoD",
        "outputId": "999d3a67-8332-47bc-edf6-61bc0b0c7775"
      },
      "execution_count": 37,
      "outputs": [
        {
          "output_type": "execute_result",
          "data": {
            "text/plain": [
              "range(0, 100)"
            ]
          },
          "metadata": {},
          "execution_count": 37
        }
      ]
    },
    {
      "cell_type": "code",
      "source": [
        ""
      ],
      "metadata": {
        "id": "6_gI_vHcZP1t"
      },
      "execution_count": null,
      "outputs": []
    },
    {
      "cell_type": "code",
      "source": [
        "import numpy as np\n",
        "import time\n",
        "import sys\n",
        "\n",
        "# let's declare the size\n",
        "Size = 100000\n",
        "\n",
        "# Creating two lists\n",
        "list1 = range(Size)\n",
        "list2 = range(Size)\n",
        "\n",
        "# Creating two NumPy arrays\n",
        "arr1 = np.arange(Size)\n",
        "arr2 = np.arange(Size)\n",
        "\n",
        "# Calculating time for Python list\n",
        "start = time.time()\n",
        "result = [(x+y) for x, y in zip(list1, list2)]\n",
        "          \n",
        "print(\"Time for Python List in msec: \", (time.time() - start) * 1000)\n",
        "\n",
        "# Calculating time for NumPy array\n",
        "start = time.time()\n",
        "result = arr1+arr2\n",
        "print(\"Time for NumPy array in msec: \", (time.time()- start) * 1000)\n",
        "\n",
        "print(\"This means NumPy array is faster than Python List\")"
      ],
      "metadata": {
        "colab": {
          "base_uri": "https://localhost:8080/"
        },
        "id": "_nzQ1iP7XoD8",
        "outputId": "a512bf64-498c-469e-8121-91092722c42e"
      },
      "execution_count": 38,
      "outputs": [
        {
          "output_type": "stream",
          "name": "stdout",
          "text": [
            "Time for Python List in msec:  12.957572937011719\n",
            "Time for NumPy array in msec:  0.45013427734375\n",
            "This means NumPy array is faster than Python List\n"
          ]
        }
      ]
    },
    {
      "cell_type": "code",
      "source": [
        "import numpy as np\n",
        "import time\n",
        "\n",
        "a1 = np.array([1, 2, 3])\n",
        "a2 = np.array([0, 5, 6])\n",
        "\n",
        "# To add two array you can simply do it by\n",
        "print(\"ADD a1 and a2 elements : \", a1+a2)\n",
        "\n",
        "# To sub two array you can simply do it by\n",
        "print(\"SUB a1 and a2 elements : \", a1 - a2)\n",
        "\n",
        "# To mul two array you can simply do it by\n",
        "print(\"MUL a1 and a2 elements : \", a1 / a2)\n",
        "\n",
        "# Calculating time for NumPy array\n",
        "start = time.time()\n",
        "result = arr1+arr2\n",
        "print(\"Time for NumPy array in msec: \", (time.time()- start) * 1000)"
      ],
      "metadata": {
        "colab": {
          "base_uri": "https://localhost:8080/"
        },
        "id": "VoR_BlmNE41w",
        "outputId": "a41cd2eb-d59e-4613-90a4-ef98ac510bb5"
      },
      "execution_count": 40,
      "outputs": [
        {
          "output_type": "stream",
          "name": "stdout",
          "text": [
            "ADD a1 and a2 elements :  [1 7 9]\n",
            "SUB a1 and a2 elements :  [ 1 -3 -3]\n",
            "MUL a1 and a2 elements :  [inf 0.4 0.5]\n",
            "Time for NumPy array in msec:  0.4811286926269531\n"
          ]
        },
        {
          "output_type": "stream",
          "name": "stderr",
          "text": [
            "/usr/local/lib/python3.7/dist-packages/ipykernel_launcher.py:14: RuntimeWarning: divide by zero encountered in true_divide\n",
            "  \n"
          ]
        }
      ]
    },
    {
      "cell_type": "code",
      "source": [
        "a = np.arange(3*4*5*6).reshape((3,4,5,6))\n",
        "b = np.arange(3*4*5*6)[::-1].reshape((5,4,6,3))\n"
      ],
      "metadata": {
        "id": "imw10RcNE44u"
      },
      "execution_count": 41,
      "outputs": []
    },
    {
      "cell_type": "code",
      "source": [
        "a"
      ],
      "metadata": {
        "colab": {
          "base_uri": "https://localhost:8080/"
        },
        "id": "V4hUAhf3cniK",
        "outputId": "c0faf4da-8804-402a-a871-6ae74eb52499"
      },
      "execution_count": 42,
      "outputs": [
        {
          "output_type": "execute_result",
          "data": {
            "text/plain": [
              "array([[[[  0,   1,   2,   3,   4,   5],\n",
              "         [  6,   7,   8,   9,  10,  11],\n",
              "         [ 12,  13,  14,  15,  16,  17],\n",
              "         [ 18,  19,  20,  21,  22,  23],\n",
              "         [ 24,  25,  26,  27,  28,  29]],\n",
              "\n",
              "        [[ 30,  31,  32,  33,  34,  35],\n",
              "         [ 36,  37,  38,  39,  40,  41],\n",
              "         [ 42,  43,  44,  45,  46,  47],\n",
              "         [ 48,  49,  50,  51,  52,  53],\n",
              "         [ 54,  55,  56,  57,  58,  59]],\n",
              "\n",
              "        [[ 60,  61,  62,  63,  64,  65],\n",
              "         [ 66,  67,  68,  69,  70,  71],\n",
              "         [ 72,  73,  74,  75,  76,  77],\n",
              "         [ 78,  79,  80,  81,  82,  83],\n",
              "         [ 84,  85,  86,  87,  88,  89]],\n",
              "\n",
              "        [[ 90,  91,  92,  93,  94,  95],\n",
              "         [ 96,  97,  98,  99, 100, 101],\n",
              "         [102, 103, 104, 105, 106, 107],\n",
              "         [108, 109, 110, 111, 112, 113],\n",
              "         [114, 115, 116, 117, 118, 119]]],\n",
              "\n",
              "\n",
              "       [[[120, 121, 122, 123, 124, 125],\n",
              "         [126, 127, 128, 129, 130, 131],\n",
              "         [132, 133, 134, 135, 136, 137],\n",
              "         [138, 139, 140, 141, 142, 143],\n",
              "         [144, 145, 146, 147, 148, 149]],\n",
              "\n",
              "        [[150, 151, 152, 153, 154, 155],\n",
              "         [156, 157, 158, 159, 160, 161],\n",
              "         [162, 163, 164, 165, 166, 167],\n",
              "         [168, 169, 170, 171, 172, 173],\n",
              "         [174, 175, 176, 177, 178, 179]],\n",
              "\n",
              "        [[180, 181, 182, 183, 184, 185],\n",
              "         [186, 187, 188, 189, 190, 191],\n",
              "         [192, 193, 194, 195, 196, 197],\n",
              "         [198, 199, 200, 201, 202, 203],\n",
              "         [204, 205, 206, 207, 208, 209]],\n",
              "\n",
              "        [[210, 211, 212, 213, 214, 215],\n",
              "         [216, 217, 218, 219, 220, 221],\n",
              "         [222, 223, 224, 225, 226, 227],\n",
              "         [228, 229, 230, 231, 232, 233],\n",
              "         [234, 235, 236, 237, 238, 239]]],\n",
              "\n",
              "\n",
              "       [[[240, 241, 242, 243, 244, 245],\n",
              "         [246, 247, 248, 249, 250, 251],\n",
              "         [252, 253, 254, 255, 256, 257],\n",
              "         [258, 259, 260, 261, 262, 263],\n",
              "         [264, 265, 266, 267, 268, 269]],\n",
              "\n",
              "        [[270, 271, 272, 273, 274, 275],\n",
              "         [276, 277, 278, 279, 280, 281],\n",
              "         [282, 283, 284, 285, 286, 287],\n",
              "         [288, 289, 290, 291, 292, 293],\n",
              "         [294, 295, 296, 297, 298, 299]],\n",
              "\n",
              "        [[300, 301, 302, 303, 304, 305],\n",
              "         [306, 307, 308, 309, 310, 311],\n",
              "         [312, 313, 314, 315, 316, 317],\n",
              "         [318, 319, 320, 321, 322, 323],\n",
              "         [324, 325, 326, 327, 328, 329]],\n",
              "\n",
              "        [[330, 331, 332, 333, 334, 335],\n",
              "         [336, 337, 338, 339, 340, 341],\n",
              "         [342, 343, 344, 345, 346, 347],\n",
              "         [348, 349, 350, 351, 352, 353],\n",
              "         [354, 355, 356, 357, 358, 359]]]])"
            ]
          },
          "metadata": {},
          "execution_count": 42
        }
      ]
    },
    {
      "cell_type": "code",
      "source": [
        "b"
      ],
      "metadata": {
        "colab": {
          "base_uri": "https://localhost:8080/"
        },
        "id": "fLJJ6U-FcoV-",
        "outputId": "f8f1a062-aaee-4901-db77-19bb3a14162f"
      },
      "execution_count": 43,
      "outputs": [
        {
          "output_type": "execute_result",
          "data": {
            "text/plain": [
              "array([[[[359, 358, 357],\n",
              "         [356, 355, 354],\n",
              "         [353, 352, 351],\n",
              "         [350, 349, 348],\n",
              "         [347, 346, 345],\n",
              "         [344, 343, 342]],\n",
              "\n",
              "        [[341, 340, 339],\n",
              "         [338, 337, 336],\n",
              "         [335, 334, 333],\n",
              "         [332, 331, 330],\n",
              "         [329, 328, 327],\n",
              "         [326, 325, 324]],\n",
              "\n",
              "        [[323, 322, 321],\n",
              "         [320, 319, 318],\n",
              "         [317, 316, 315],\n",
              "         [314, 313, 312],\n",
              "         [311, 310, 309],\n",
              "         [308, 307, 306]],\n",
              "\n",
              "        [[305, 304, 303],\n",
              "         [302, 301, 300],\n",
              "         [299, 298, 297],\n",
              "         [296, 295, 294],\n",
              "         [293, 292, 291],\n",
              "         [290, 289, 288]]],\n",
              "\n",
              "\n",
              "       [[[287, 286, 285],\n",
              "         [284, 283, 282],\n",
              "         [281, 280, 279],\n",
              "         [278, 277, 276],\n",
              "         [275, 274, 273],\n",
              "         [272, 271, 270]],\n",
              "\n",
              "        [[269, 268, 267],\n",
              "         [266, 265, 264],\n",
              "         [263, 262, 261],\n",
              "         [260, 259, 258],\n",
              "         [257, 256, 255],\n",
              "         [254, 253, 252]],\n",
              "\n",
              "        [[251, 250, 249],\n",
              "         [248, 247, 246],\n",
              "         [245, 244, 243],\n",
              "         [242, 241, 240],\n",
              "         [239, 238, 237],\n",
              "         [236, 235, 234]],\n",
              "\n",
              "        [[233, 232, 231],\n",
              "         [230, 229, 228],\n",
              "         [227, 226, 225],\n",
              "         [224, 223, 222],\n",
              "         [221, 220, 219],\n",
              "         [218, 217, 216]]],\n",
              "\n",
              "\n",
              "       [[[215, 214, 213],\n",
              "         [212, 211, 210],\n",
              "         [209, 208, 207],\n",
              "         [206, 205, 204],\n",
              "         [203, 202, 201],\n",
              "         [200, 199, 198]],\n",
              "\n",
              "        [[197, 196, 195],\n",
              "         [194, 193, 192],\n",
              "         [191, 190, 189],\n",
              "         [188, 187, 186],\n",
              "         [185, 184, 183],\n",
              "         [182, 181, 180]],\n",
              "\n",
              "        [[179, 178, 177],\n",
              "         [176, 175, 174],\n",
              "         [173, 172, 171],\n",
              "         [170, 169, 168],\n",
              "         [167, 166, 165],\n",
              "         [164, 163, 162]],\n",
              "\n",
              "        [[161, 160, 159],\n",
              "         [158, 157, 156],\n",
              "         [155, 154, 153],\n",
              "         [152, 151, 150],\n",
              "         [149, 148, 147],\n",
              "         [146, 145, 144]]],\n",
              "\n",
              "\n",
              "       [[[143, 142, 141],\n",
              "         [140, 139, 138],\n",
              "         [137, 136, 135],\n",
              "         [134, 133, 132],\n",
              "         [131, 130, 129],\n",
              "         [128, 127, 126]],\n",
              "\n",
              "        [[125, 124, 123],\n",
              "         [122, 121, 120],\n",
              "         [119, 118, 117],\n",
              "         [116, 115, 114],\n",
              "         [113, 112, 111],\n",
              "         [110, 109, 108]],\n",
              "\n",
              "        [[107, 106, 105],\n",
              "         [104, 103, 102],\n",
              "         [101, 100,  99],\n",
              "         [ 98,  97,  96],\n",
              "         [ 95,  94,  93],\n",
              "         [ 92,  91,  90]],\n",
              "\n",
              "        [[ 89,  88,  87],\n",
              "         [ 86,  85,  84],\n",
              "         [ 83,  82,  81],\n",
              "         [ 80,  79,  78],\n",
              "         [ 77,  76,  75],\n",
              "         [ 74,  73,  72]]],\n",
              "\n",
              "\n",
              "       [[[ 71,  70,  69],\n",
              "         [ 68,  67,  66],\n",
              "         [ 65,  64,  63],\n",
              "         [ 62,  61,  60],\n",
              "         [ 59,  58,  57],\n",
              "         [ 56,  55,  54]],\n",
              "\n",
              "        [[ 53,  52,  51],\n",
              "         [ 50,  49,  48],\n",
              "         [ 47,  46,  45],\n",
              "         [ 44,  43,  42],\n",
              "         [ 41,  40,  39],\n",
              "         [ 38,  37,  36]],\n",
              "\n",
              "        [[ 35,  34,  33],\n",
              "         [ 32,  31,  30],\n",
              "         [ 29,  28,  27],\n",
              "         [ 26,  25,  24],\n",
              "         [ 23,  22,  21],\n",
              "         [ 20,  19,  18]],\n",
              "\n",
              "        [[ 17,  16,  15],\n",
              "         [ 14,  13,  12],\n",
              "         [ 11,  10,   9],\n",
              "         [  8,   7,   6],\n",
              "         [  5,   4,   3],\n",
              "         [  2,   1,   0]]]])"
            ]
          },
          "metadata": {},
          "execution_count": 43
        }
      ]
    },
    {
      "cell_type": "code",
      "source": [
        "np.dot(a, b)[2,3,2,1,2,2]\n",
        "499128\n",
        "sum(a[2,3,2,:] * b[1,2,:,2])\n",
        "499128"
      ],
      "metadata": {
        "colab": {
          "base_uri": "https://localhost:8080/"
        },
        "id": "Qibs37iQE468",
        "outputId": "7a5d8dbc-1d61-4fdd-e1e0-c827dae3710b"
      },
      "execution_count": 44,
      "outputs": [
        {
          "output_type": "execute_result",
          "data": {
            "text/plain": [
              "499128"
            ]
          },
          "metadata": {},
          "execution_count": 44
        }
      ]
    },
    {
      "cell_type": "code",
      "source": [
        "a = [[1, 0], [0, 1]]\n",
        "b = [[4, 1], [2, 2]]\n"
      ],
      "metadata": {
        "id": "nIPkjjpsc1VW"
      },
      "execution_count": 45,
      "outputs": []
    },
    {
      "cell_type": "code",
      "source": [
        "a"
      ],
      "metadata": {
        "colab": {
          "base_uri": "https://localhost:8080/"
        },
        "id": "yQcJsxMic4A9",
        "outputId": "2b1f0011-9534-464c-d972-b68bdfc9e125"
      },
      "execution_count": 46,
      "outputs": [
        {
          "output_type": "execute_result",
          "data": {
            "text/plain": [
              "[[1, 0], [0, 1]]"
            ]
          },
          "metadata": {},
          "execution_count": 46
        }
      ]
    },
    {
      "cell_type": "code",
      "source": [
        "np.dot(a, b)"
      ],
      "metadata": {
        "colab": {
          "base_uri": "https://localhost:8080/"
        },
        "id": "vMpEU2Pvc1YF",
        "outputId": "6cee2fe5-a549-4672-93ed-db8467f5acda"
      },
      "execution_count": 47,
      "outputs": [
        {
          "output_type": "execute_result",
          "data": {
            "text/plain": [
              "array([[4, 1],\n",
              "       [2, 2]])"
            ]
          },
          "metadata": {},
          "execution_count": 47
        }
      ]
    },
    {
      "cell_type": "code",
      "source": [
        ""
      ],
      "metadata": {
        "id": "nwdoLTWtE49T"
      },
      "execution_count": null,
      "outputs": []
    },
    {
      "cell_type": "code",
      "source": [
        ""
      ],
      "metadata": {
        "id": "hsmAqSTzE5DB"
      },
      "execution_count": null,
      "outputs": []
    },
    {
      "cell_type": "code",
      "source": [
        ""
      ],
      "metadata": {
        "id": "-xoFNiUvE5Fv"
      },
      "execution_count": null,
      "outputs": []
    },
    {
      "cell_type": "code",
      "source": [
        ""
      ],
      "metadata": {
        "id": "Lt-xH-8NE5IX"
      },
      "execution_count": null,
      "outputs": []
    },
    {
      "cell_type": "code",
      "execution_count": 48,
      "metadata": {
        "id": "aTOMMywWBSci"
      },
      "outputs": [],
      "source": [
        "array = np.array ([1,2,3])"
      ]
    },
    {
      "cell_type": "code",
      "execution_count": 49,
      "metadata": {
        "colab": {
          "base_uri": "https://localhost:8080/"
        },
        "id": "VajCnxu_BScj",
        "outputId": "a4f8356f-407e-4ab5-945a-24659aec3725"
      },
      "outputs": [
        {
          "output_type": "execute_result",
          "data": {
            "text/plain": [
              "numpy.ndarray"
            ]
          },
          "metadata": {},
          "execution_count": 49
        }
      ],
      "source": [
        "type(array)"
      ]
    },
    {
      "cell_type": "code",
      "execution_count": null,
      "metadata": {
        "id": "04CuGINLBSck"
      },
      "outputs": [],
      "source": [
        ""
      ]
    },
    {
      "cell_type": "code",
      "execution_count": null,
      "metadata": {
        "id": "s1K-uTzCBSck",
        "outputId": "15e811c0-29cc-49fd-f0a0-118307f1066a"
      },
      "outputs": [
        {
          "data": {
            "text/plain": [
              "dtype('float32')"
            ]
          },
          "execution_count": 5,
          "metadata": {},
          "output_type": "execute_result"
        }
      ],
      "source": [
        "a.dtype"
      ]
    },
    {
      "cell_type": "code",
      "execution_count": null,
      "metadata": {
        "id": "KXNP7OLfBSck"
      },
      "outputs": [],
      "source": [
        ""
      ]
    },
    {
      "cell_type": "code",
      "execution_count": null,
      "metadata": {
        "id": "uYyNf06_BScl",
        "outputId": "4e103601-ae7a-4ddc-baf2-029ee0e832fe"
      },
      "outputs": [
        {
          "data": {
            "text/plain": [
              "array([1., 2., 3.], dtype=float32)"
            ]
          },
          "execution_count": 6,
          "metadata": {},
          "output_type": "execute_result"
        }
      ],
      "source": [
        "a"
      ]
    },
    {
      "cell_type": "code",
      "execution_count": null,
      "metadata": {
        "id": "42hxGHFYBScm"
      },
      "outputs": [],
      "source": [
        "b = np.array ([1,2,3.567])"
      ]
    },
    {
      "cell_type": "code",
      "execution_count": null,
      "metadata": {
        "id": "CPR-wVciBScm",
        "outputId": "e1de3cd1-4e0a-42a5-db58-c50a8d590880"
      },
      "outputs": [
        {
          "data": {
            "text/plain": [
              "dtype('float64')"
            ]
          },
          "execution_count": 8,
          "metadata": {},
          "output_type": "execute_result"
        }
      ],
      "source": [
        "b.dtype"
      ]
    },
    {
      "cell_type": "code",
      "execution_count": null,
      "metadata": {
        "id": "ozzbuqH5BScm"
      },
      "outputs": [],
      "source": [
        "a = np.array([1,2,3], dtype=np.float32)  "
      ]
    },
    {
      "cell_type": "code",
      "execution_count": null,
      "metadata": {
        "id": "5u5v4pxqBScn",
        "outputId": "537253c1-854d-4f55-b196-9caa32c75fbc"
      },
      "outputs": [
        {
          "data": {
            "text/plain": [
              "array([[1.19753282e-311, 0.00000000e+000, 4.94065646e-324]])"
            ]
          },
          "execution_count": 14,
          "metadata": {},
          "output_type": "execute_result"
        }
      ],
      "source": [
        "np.empty((1,3))"
      ]
    },
    {
      "cell_type": "code",
      "execution_count": null,
      "metadata": {
        "id": "Al0v6l_6BScn",
        "outputId": "1c27a667-0abd-43d2-ee01-f6bd1fd5bf68"
      },
      "outputs": [
        {
          "data": {
            "text/plain": [
              "array([[1., 0., 0.],\n",
              "       [0., 1., 0.],\n",
              "       [0., 0., 1.]])"
            ]
          },
          "execution_count": 16,
          "metadata": {},
          "output_type": "execute_result"
        }
      ],
      "source": [
        "np.eye(3)"
      ]
    },
    {
      "cell_type": "code",
      "execution_count": null,
      "metadata": {
        "id": "tcwgqzvgBSco",
        "outputId": "137eee4e-c0ae-4b7f-ddff-a1a486a940d4"
      },
      "outputs": [
        {
          "data": {
            "text/plain": [
              "array([[1, 0, 0, 0],\n",
              "       [0, 2, 0, 0],\n",
              "       [0, 0, 3, 0],\n",
              "       [0, 0, 0, 4]])"
            ]
          },
          "execution_count": 17,
          "metadata": {},
          "output_type": "execute_result"
        }
      ],
      "source": [
        "np.diag([1,2,3,4])"
      ]
    },
    {
      "cell_type": "code",
      "execution_count": null,
      "metadata": {
        "id": "aW5fp3djBSco"
      },
      "outputs": [],
      "source": [
        "a = np.array([1,2,3,4,5,6,7,8,9,10,11,12,13,14,15,16])\n",
        "\n",
        "b = a.reshape(4,4)"
      ]
    },
    {
      "cell_type": "code",
      "execution_count": null,
      "metadata": {
        "id": "uuLvxdZ2BSco"
      },
      "outputs": [],
      "source": [
        "b = a.reshape(2,8)"
      ]
    },
    {
      "cell_type": "code",
      "execution_count": null,
      "metadata": {
        "id": "wGLPn134BScp",
        "outputId": "eabe1251-2b7f-4e9f-9e37-67a9433ffb4a"
      },
      "outputs": [
        {
          "data": {
            "text/plain": [
              "array([[ 1,  2,  3,  4],\n",
              "       [ 5,  6,  7,  8],\n",
              "       [ 9, 10, 11, 12],\n",
              "       [13, 14, 15, 16]])"
            ]
          },
          "execution_count": 26,
          "metadata": {},
          "output_type": "execute_result"
        }
      ],
      "source": [
        "b"
      ]
    },
    {
      "cell_type": "code",
      "execution_count": null,
      "metadata": {
        "id": "qp9KOjpIBScp",
        "outputId": "0aedd588-bef8-44e3-f519-ec4d7a974584"
      },
      "outputs": [
        {
          "data": {
            "text/plain": [
              "array([[1, 2, 3, 4],\n",
              "       [5, 6, 7, 8]])"
            ]
          },
          "execution_count": 25,
          "metadata": {},
          "output_type": "execute_result"
        }
      ],
      "source": [
        "b[0:2,:]\n",
        "\n",
        "#Rows, columns"
      ]
    },
    {
      "cell_type": "code",
      "execution_count": null,
      "metadata": {
        "id": "23QYCc1VBScp",
        "outputId": "a26d6d5e-349a-4539-946a-0be288e071b7"
      },
      "outputs": [
        {
          "data": {
            "text/plain": [
              "array([10, 11, 12])"
            ]
          },
          "execution_count": 27,
          "metadata": {},
          "output_type": "execute_result"
        }
      ],
      "source": [
        "b[2,1:]"
      ]
    },
    {
      "cell_type": "code",
      "execution_count": null,
      "metadata": {
        "id": "Cf1PUOC7BScq",
        "outputId": "1d9e0406-3f88-4dd7-90a1-e07f49128502"
      },
      "outputs": [
        {
          "data": {
            "text/plain": [
              "array([[ 1,  4],\n",
              "       [ 5,  8],\n",
              "       [ 9, 12],\n",
              "       [13, 16]])"
            ]
          },
          "execution_count": 29,
          "metadata": {},
          "output_type": "execute_result"
        }
      ],
      "source": [
        "b[:,::3]"
      ]
    },
    {
      "cell_type": "code",
      "execution_count": null,
      "metadata": {
        "id": "zw9Q-N3PBScq",
        "outputId": "513e2a8e-2cfa-4d4d-cf72-29e999bdf0f6"
      },
      "outputs": [
        {
          "data": {
            "text/plain": [
              "array([[12],\n",
              "       [16]])"
            ]
          },
          "execution_count": 33,
          "metadata": {},
          "output_type": "execute_result"
        }
      ],
      "source": [
        "b[2:,3:]"
      ]
    },
    {
      "cell_type": "code",
      "execution_count": null,
      "metadata": {
        "id": "qG80IrXFBScq",
        "outputId": "cffc86c8-21de-4b1a-de82-acc97f2100d4"
      },
      "outputs": [
        {
          "data": {
            "text/plain": [
              "136"
            ]
          },
          "execution_count": 34,
          "metadata": {},
          "output_type": "execute_result"
        }
      ],
      "source": [
        "a.sum()"
      ]
    },
    {
      "cell_type": "code",
      "execution_count": null,
      "metadata": {
        "id": "a8db6dAABScq",
        "outputId": "301a9cc0-3093-4e85-9572-473e44226382"
      },
      "outputs": [
        {
          "data": {
            "text/plain": [
              "array([[ 1,  2,  3,  4],\n",
              "       [ 5,  6,  7,  8],\n",
              "       [ 9, 10, 11, 12],\n",
              "       [13, 14, 15, 16]])"
            ]
          },
          "execution_count": 37,
          "metadata": {},
          "output_type": "execute_result"
        }
      ],
      "source": [
        "b"
      ]
    },
    {
      "cell_type": "code",
      "execution_count": null,
      "metadata": {
        "id": "Q_jj_wsuBScq",
        "outputId": "3b8b35c7-5c6b-46c7-bde7-52739ec6e866"
      },
      "outputs": [
        {
          "data": {
            "text/plain": [
              "array([28, 32, 36, 40])"
            ]
          },
          "execution_count": 36,
          "metadata": {},
          "output_type": "execute_result"
        }
      ],
      "source": [
        "b.sum(axis =0)\n",
        "\n",
        "#Rows"
      ]
    },
    {
      "cell_type": "code",
      "execution_count": null,
      "metadata": {
        "id": "lkrJYUAmBScq"
      },
      "outputs": [],
      "source": [
        "x = np.array([1,2,3])\n",
        "y = np.array([4,5,6])\n",
        "z = x * y\n"
      ]
    },
    {
      "cell_type": "code",
      "execution_count": null,
      "metadata": {
        "id": "xRTliT-FBScr"
      },
      "outputs": [],
      "source": [
        "a1 = np.linspace(10, 20, 5)"
      ]
    },
    {
      "cell_type": "code",
      "execution_count": null,
      "metadata": {
        "id": "Hp03UQGRBScr",
        "outputId": "b499aa0a-ebea-4dcb-dc11-b71eeeaff398"
      },
      "outputs": [
        {
          "data": {
            "text/plain": [
              "array([10. , 12.5, 15. , 17.5, 20. ])"
            ]
          },
          "execution_count": 41,
          "metadata": {},
          "output_type": "execute_result"
        }
      ],
      "source": [
        "a1"
      ]
    }
  ],
  "metadata": {
    "kernelspec": {
      "display_name": "Python 3.10.5 64-bit",
      "language": "python",
      "name": "python3"
    },
    "language_info": {
      "codemirror_mode": {
        "name": "ipython",
        "version": 3
      },
      "file_extension": ".py",
      "mimetype": "text/x-python",
      "name": "python",
      "nbconvert_exporter": "python",
      "pygments_lexer": "ipython3",
      "version": "3.10.5"
    },
    "orig_nbformat": 4,
    "vscode": {
      "interpreter": {
        "hash": "a42ccb73e7d9bfdf27e036f1d2b8b681e55fc0743cc5586bc2474d4a60f4b886"
      }
    },
    "colab": {
      "name": "Numpy_Day1.ipynb",
      "provenance": []
    }
  },
  "nbformat": 4,
  "nbformat_minor": 0
}