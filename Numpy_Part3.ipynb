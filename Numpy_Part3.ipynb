{
  "cells": [
    {
      "cell_type": "markdown",
      "id": "d716c4a8",
      "metadata": {
        "id": "d716c4a8"
      },
      "source": [
        "### Numpy"
      ]
    },
    {
      "cell_type": "code",
      "execution_count": 1,
      "id": "8cab8ba6",
      "metadata": {
        "id": "8cab8ba6"
      },
      "outputs": [],
      "source": [
        "import numpy as np"
      ]
    },
    {
      "cell_type": "code",
      "execution_count": 2,
      "id": "d36640c5",
      "metadata": {
        "id": "d36640c5"
      },
      "outputs": [],
      "source": [
        "array1 = np.array([1, 2, 3, 4, 5])"
      ]
    },
    {
      "cell_type": "code",
      "source": [
        "array1"
      ],
      "metadata": {
        "colab": {
          "base_uri": "https://localhost:8080/"
        },
        "id": "1G0Z6EsXZ_1W",
        "outputId": "acf49fa7-b7fa-4ac0-bb35-5c09d6b40e7c"
      },
      "id": "1G0Z6EsXZ_1W",
      "execution_count": 87,
      "outputs": [
        {
          "output_type": "execute_result",
          "data": {
            "text/plain": [
              "array([2, 4, 6, 8])"
            ]
          },
          "metadata": {},
          "execution_count": 87
        }
      ]
    },
    {
      "cell_type": "code",
      "execution_count": 3,
      "id": "39700109",
      "metadata": {
        "colab": {
          "base_uri": "https://localhost:8080/"
        },
        "id": "39700109",
        "outputId": "0b29c840-548b-4f02-a3a5-bf364cd9ea2e"
      },
      "outputs": [
        {
          "output_type": "execute_result",
          "data": {
            "text/plain": [
              "array([1, 2, 3, 4, 5])"
            ]
          },
          "metadata": {},
          "execution_count": 3
        }
      ],
      "source": [
        "array1"
      ]
    },
    {
      "cell_type": "code",
      "execution_count": 4,
      "id": "0e8403b2",
      "metadata": {
        "colab": {
          "base_uri": "https://localhost:8080/"
        },
        "id": "0e8403b2",
        "outputId": "08f8a2c8-cd48-402f-8dde-edc22a455402"
      },
      "outputs": [
        {
          "output_type": "execute_result",
          "data": {
            "text/plain": [
              "numpy.ndarray"
            ]
          },
          "metadata": {},
          "execution_count": 4
        }
      ],
      "source": [
        "type(array1)"
      ]
    },
    {
      "cell_type": "code",
      "execution_count": 5,
      "id": "b36fa9c5",
      "metadata": {
        "colab": {
          "base_uri": "https://localhost:8080/"
        },
        "id": "b36fa9c5",
        "outputId": "9177784e-8633-412a-ef75-19370c4d8920"
      },
      "outputs": [
        {
          "output_type": "execute_result",
          "data": {
            "text/plain": [
              "(5,)"
            ]
          },
          "metadata": {},
          "execution_count": 5
        }
      ],
      "source": [
        "array1.shape"
      ]
    },
    {
      "cell_type": "code",
      "execution_count": 88,
      "id": "689ad57b",
      "metadata": {
        "colab": {
          "base_uri": "https://localhost:8080/"
        },
        "id": "689ad57b",
        "outputId": "a27818e7-5edc-41e4-9812-195ff8800cff"
      },
      "outputs": [
        {
          "output_type": "execute_result",
          "data": {
            "text/plain": [
              "1"
            ]
          },
          "metadata": {},
          "execution_count": 88
        }
      ],
      "source": [
        "array1.ndim"
      ]
    },
    {
      "cell_type": "code",
      "execution_count": 89,
      "id": "8f194fad",
      "metadata": {
        "id": "8f194fad"
      },
      "outputs": [],
      "source": [
        "array2 = np.array([[1, 2, 3, 4, 5], [11, 22, 33, 44, 55]])"
      ]
    },
    {
      "cell_type": "code",
      "execution_count": 90,
      "id": "4bcc5e16",
      "metadata": {
        "colab": {
          "base_uri": "https://localhost:8080/"
        },
        "id": "4bcc5e16",
        "outputId": "aca83f10-9dc9-4c7f-dc75-fa407bfdc628"
      },
      "outputs": [
        {
          "output_type": "execute_result",
          "data": {
            "text/plain": [
              "(2, 5)"
            ]
          },
          "metadata": {},
          "execution_count": 90
        }
      ],
      "source": [
        "array2.shape"
      ]
    },
    {
      "cell_type": "code",
      "execution_count": 91,
      "id": "4e69450a",
      "metadata": {
        "colab": {
          "base_uri": "https://localhost:8080/"
        },
        "id": "4e69450a",
        "outputId": "1b3817fe-5ebc-4c84-c548-9447d4b8df7e"
      },
      "outputs": [
        {
          "output_type": "execute_result",
          "data": {
            "text/plain": [
              "2"
            ]
          },
          "metadata": {},
          "execution_count": 91
        }
      ],
      "source": [
        "array2.ndim"
      ]
    },
    {
      "cell_type": "code",
      "execution_count": 92,
      "id": "f4a6c2bc",
      "metadata": {
        "colab": {
          "base_uri": "https://localhost:8080/"
        },
        "id": "f4a6c2bc",
        "outputId": "ab777d92-7856-483e-b943-254ee03970b2"
      },
      "outputs": [
        {
          "output_type": "stream",
          "name": "stdout",
          "text": [
            "<class 'numpy.ndarray'>\n",
            "(2, 5)\n",
            "2\n"
          ]
        }
      ],
      "source": [
        "array1 = np.array([[1,2,3,4,5],[1,2,3,4,5]])\n",
        "array1\n",
        "print(type(array1))\n",
        "print(array1.shape)\n",
        "print(array1.ndim)\n"
      ]
    },
    {
      "cell_type": "code",
      "source": [
        "a = []"
      ],
      "metadata": {
        "id": "pCAKCkm-aajx"
      },
      "id": "pCAKCkm-aajx",
      "execution_count": null,
      "outputs": []
    },
    {
      "cell_type": "code",
      "source": [
        ""
      ],
      "metadata": {
        "id": "B3dTZhUmaarb"
      },
      "id": "B3dTZhUmaarb",
      "execution_count": null,
      "outputs": []
    },
    {
      "cell_type": "code",
      "execution_count": 101,
      "id": "db0a0174",
      "metadata": {
        "id": "db0a0174"
      },
      "outputs": [],
      "source": [
        "array2 = np.array([[1,2,3],[11,22, np.nan]], dtype = np.float32)\n"
      ]
    },
    {
      "cell_type": "code",
      "source": [
        "aa"
      ],
      "metadata": {
        "id": "U2j4rfn3bkux"
      },
      "id": "U2j4rfn3bkux",
      "execution_count": null,
      "outputs": []
    },
    {
      "cell_type": "code",
      "source": [
        ""
      ],
      "metadata": {
        "id": "njuv3PQFbkxf"
      },
      "id": "njuv3PQFbkxf",
      "execution_count": null,
      "outputs": []
    },
    {
      "cell_type": "code",
      "execution_count": 102,
      "id": "b4f8727c",
      "metadata": {
        "colab": {
          "base_uri": "https://localhost:8080/"
        },
        "id": "b4f8727c",
        "outputId": "f6ca84d5-5809-4170-c633-bb88ab4e42bd"
      },
      "outputs": [
        {
          "output_type": "execute_result",
          "data": {
            "text/plain": [
              "dtype('float32')"
            ]
          },
          "metadata": {},
          "execution_count": 102
        }
      ],
      "source": [
        "array2.dtype"
      ]
    },
    {
      "cell_type": "code",
      "execution_count": 103,
      "id": "e926592b",
      "metadata": {
        "colab": {
          "base_uri": "https://localhost:8080/"
        },
        "id": "e926592b",
        "outputId": "5a99c884-a9ec-48f4-9930-62644224af8e"
      },
      "outputs": [
        {
          "output_type": "execute_result",
          "data": {
            "text/plain": [
              "array([[ 1.,  2.,  3.],\n",
              "       [11., 22., nan]], dtype=float32)"
            ]
          },
          "metadata": {},
          "execution_count": 103
        }
      ],
      "source": [
        "array2"
      ]
    },
    {
      "cell_type": "code",
      "execution_count": 14,
      "id": "8dcbacc0",
      "metadata": {
        "id": "8dcbacc0"
      },
      "outputs": [],
      "source": [
        "array_reshape = array2.reshape(3,2)"
      ]
    },
    {
      "cell_type": "code",
      "execution_count": 15,
      "id": "3e1bb63f",
      "metadata": {
        "colab": {
          "base_uri": "https://localhost:8080/"
        },
        "id": "3e1bb63f",
        "outputId": "03aa70f3-52eb-4f12-a5b3-4b8b8385efaa"
      },
      "outputs": [
        {
          "output_type": "execute_result",
          "data": {
            "text/plain": [
              "array([[ 1.,  2.],\n",
              "       [ 3., 11.],\n",
              "       [22., nan]])"
            ]
          },
          "metadata": {},
          "execution_count": 15
        }
      ],
      "source": [
        "array_reshape"
      ]
    },
    {
      "cell_type": "code",
      "execution_count": 16,
      "id": "9844b412",
      "metadata": {
        "colab": {
          "base_uri": "https://localhost:8080/"
        },
        "id": "9844b412",
        "outputId": "bd57e820-3b32-4bc7-8c2c-180578bc0944"
      },
      "outputs": [
        {
          "output_type": "execute_result",
          "data": {
            "text/plain": [
              "(3, 2)"
            ]
          },
          "metadata": {},
          "execution_count": 16
        }
      ],
      "source": [
        "array_reshape.shape"
      ]
    },
    {
      "cell_type": "code",
      "execution_count": 17,
      "id": "9f2274dd",
      "metadata": {
        "id": "9f2274dd"
      },
      "outputs": [],
      "source": [
        "array2 = np.array([[[[1,2,3,4,5],[4,5,6,7,8],[1.2,3.4,5.6,7.8,9.1],[4,4,4,4,5]]]])\n"
      ]
    },
    {
      "cell_type": "code",
      "execution_count": 18,
      "id": "bb41911a",
      "metadata": {
        "id": "bb41911a"
      },
      "outputs": [],
      "source": [
        "array2 = np.array([[1,2,3,4,5],[4,5,6,7,8],[1.2,3.4,5.6,7.8,9.1],[4,4,4,4,5]])"
      ]
    },
    {
      "cell_type": "code",
      "execution_count": 19,
      "id": "8705fcc8",
      "metadata": {
        "colab": {
          "base_uri": "https://localhost:8080/"
        },
        "id": "8705fcc8",
        "outputId": "59cdc802-21a3-4434-9016-92516c5c3e2f"
      },
      "outputs": [
        {
          "output_type": "execute_result",
          "data": {
            "text/plain": [
              "(4, 5)"
            ]
          },
          "metadata": {},
          "execution_count": 19
        }
      ],
      "source": [
        "array2.shape"
      ]
    },
    {
      "cell_type": "code",
      "execution_count": 20,
      "id": "a9f33c82",
      "metadata": {
        "colab": {
          "base_uri": "https://localhost:8080/"
        },
        "id": "a9f33c82",
        "outputId": "56a1823e-8686-4d81-d457-216446947ce7"
      },
      "outputs": [
        {
          "output_type": "execute_result",
          "data": {
            "text/plain": [
              "array([[1. , 2. , 3. , 4. , 5. ],\n",
              "       [4. , 5. , 6. , 7. , 8. ],\n",
              "       [1.2, 3.4, 5.6, 7.8, 9.1],\n",
              "       [4. , 4. , 4. , 4. , 5. ]])"
            ]
          },
          "metadata": {},
          "execution_count": 20
        }
      ],
      "source": [
        "array2"
      ]
    },
    {
      "cell_type": "code",
      "execution_count": 21,
      "id": "35306152",
      "metadata": {
        "colab": {
          "base_uri": "https://localhost:8080/"
        },
        "id": "35306152",
        "outputId": "733208a8-b09f-477a-afa4-c8d3ef61475f"
      },
      "outputs": [
        {
          "output_type": "execute_result",
          "data": {
            "text/plain": [
              "<function numpy.shape>"
            ]
          },
          "metadata": {},
          "execution_count": 21
        }
      ],
      "source": [
        "np.shape"
      ]
    },
    {
      "cell_type": "code",
      "execution_count": 22,
      "id": "bea81689",
      "metadata": {
        "colab": {
          "base_uri": "https://localhost:8080/"
        },
        "id": "bea81689",
        "outputId": "4b8ff880-cc27-4a25-d375-c9df917eb21b"
      },
      "outputs": [
        {
          "output_type": "execute_result",
          "data": {
            "text/plain": [
              "(4, 5)"
            ]
          },
          "metadata": {},
          "execution_count": 22
        }
      ],
      "source": [
        "array2.shape"
      ]
    },
    {
      "cell_type": "code",
      "execution_count": 23,
      "id": "85a0d861",
      "metadata": {
        "colab": {
          "base_uri": "https://localhost:8080/"
        },
        "id": "85a0d861",
        "outputId": "d4f3576c-177f-48ca-8da8-79eb977c6118"
      },
      "outputs": [
        {
          "output_type": "execute_result",
          "data": {
            "text/plain": [
              "2"
            ]
          },
          "metadata": {},
          "execution_count": 23
        }
      ],
      "source": [
        "array2.ndim"
      ]
    },
    {
      "cell_type": "code",
      "execution_count": 24,
      "id": "d27d33f4",
      "metadata": {
        "id": "d27d33f4"
      },
      "outputs": [],
      "source": [
        "array2.shape?"
      ]
    },
    {
      "cell_type": "code",
      "execution_count": 25,
      "id": "b6824b1f",
      "metadata": {
        "id": "b6824b1f"
      },
      "outputs": [],
      "source": [
        "array6 = np.array([[1,2,3.3],[4,5,6]])\n"
      ]
    },
    {
      "cell_type": "code",
      "execution_count": 26,
      "id": "673797cc",
      "metadata": {
        "id": "673797cc"
      },
      "outputs": [],
      "source": [
        "array2 = np.array([[1,2,3,4,5],[4,5,6,7,8],[1.2,3.4,5.6,7.8,9.1],[4,4,4,4,5]], dtype = int)\n"
      ]
    },
    {
      "cell_type": "code",
      "execution_count": 26,
      "id": "74eda55b",
      "metadata": {
        "id": "74eda55b"
      },
      "outputs": [],
      "source": [
        "#square matrix - Row and columns are equal"
      ]
    },
    {
      "cell_type": "code",
      "source": [
        "#identify matrix - Prinipal Diagnal i 1 , other are zero\n",
        "#ANYTHING WE multiply with identity matrix, returns the same value\n",
        "#square matrix"
      ],
      "metadata": {
        "id": "VXk77XDmgT9Z"
      },
      "id": "VXk77XDmgT9Z",
      "execution_count": null,
      "outputs": []
    },
    {
      "cell_type": "code",
      "source": [
        "array_ones = np.ones([3, 3], dtype=int)"
      ],
      "metadata": {
        "id": "CMndJ7wjgtC2"
      },
      "id": "CMndJ7wjgtC2",
      "execution_count": 107,
      "outputs": []
    },
    {
      "cell_type": "code",
      "source": [
        "array_ones"
      ],
      "metadata": {
        "colab": {
          "base_uri": "https://localhost:8080/"
        },
        "id": "vn00aZsUgUAH",
        "outputId": "6c88390b-7661-4064-8bc1-ca32f46779a3"
      },
      "id": "vn00aZsUgUAH",
      "execution_count": 108,
      "outputs": [
        {
          "output_type": "execute_result",
          "data": {
            "text/plain": [
              "array([[1, 1, 1],\n",
              "       [1, 1, 1],\n",
              "       [1, 1, 1]])"
            ]
          },
          "metadata": {},
          "execution_count": 108
        }
      ]
    },
    {
      "cell_type": "code",
      "source": [
        "np.eye(3)"
      ],
      "metadata": {
        "colab": {
          "base_uri": "https://localhost:8080/"
        },
        "id": "iaLI2hwagyoq",
        "outputId": "052ffa87-7b84-4654-c680-ac2bfe21198d"
      },
      "id": "iaLI2hwagyoq",
      "execution_count": 109,
      "outputs": [
        {
          "output_type": "execute_result",
          "data": {
            "text/plain": [
              "array([[1., 0., 0.],\n",
              "       [0., 1., 0.],\n",
              "       [0., 0., 1.]])"
            ]
          },
          "metadata": {},
          "execution_count": 109
        }
      ]
    },
    {
      "cell_type": "code",
      "execution_count": 110,
      "id": "62c86a31",
      "metadata": {
        "id": "62c86a31"
      },
      "outputs": [],
      "source": [
        "array_Zero = np.zeros(8)"
      ]
    },
    {
      "cell_type": "code",
      "execution_count": 111,
      "id": "f9614592",
      "metadata": {
        "colab": {
          "base_uri": "https://localhost:8080/"
        },
        "id": "f9614592",
        "outputId": "7823cbb1-ec7b-4f8f-a096-b96d10b76b8a"
      },
      "outputs": [
        {
          "output_type": "execute_result",
          "data": {
            "text/plain": [
              "array([0., 0., 0., 0., 0., 0., 0., 0.])"
            ]
          },
          "metadata": {},
          "execution_count": 111
        }
      ],
      "source": [
        "array_Zero"
      ]
    },
    {
      "cell_type": "code",
      "execution_count": 105,
      "id": "9d758228",
      "metadata": {
        "id": "9d758228"
      },
      "outputs": [],
      "source": [
        ""
      ]
    },
    {
      "cell_type": "code",
      "execution_count": 106,
      "id": "e8e05ec1",
      "metadata": {
        "colab": {
          "base_uri": "https://localhost:8080/"
        },
        "id": "e8e05ec1",
        "outputId": "cd323212-158f-4b9b-bcdd-468239a31e00"
      },
      "outputs": [
        {
          "output_type": "execute_result",
          "data": {
            "text/plain": [
              "array([[1, 1, 1],\n",
              "       [1, 1, 1],\n",
              "       [1, 1, 1]])"
            ]
          },
          "metadata": {},
          "execution_count": 106
        }
      ],
      "source": [
        "array_ones"
      ]
    },
    {
      "cell_type": "code",
      "source": [
        ""
      ],
      "metadata": {
        "id": "mqGW0C7kgCzg"
      },
      "id": "mqGW0C7kgCzg",
      "execution_count": null,
      "outputs": []
    },
    {
      "cell_type": "code",
      "source": [
        ""
      ],
      "metadata": {
        "id": "I8swShr7gC3X"
      },
      "id": "I8swShr7gC3X",
      "execution_count": null,
      "outputs": []
    },
    {
      "cell_type": "markdown",
      "id": "dc0eca5b",
      "metadata": {
        "id": "dc0eca5b"
      },
      "source": [
        "### Creating an array with existing data"
      ]
    },
    {
      "cell_type": "code",
      "execution_count": 31,
      "id": "2263f1cf",
      "metadata": {
        "id": "2263f1cf"
      },
      "outputs": [],
      "source": [
        "x1 = ([3, 5], [5, 4], [6, 7])\n",
        "a1 = np.asarray(x1, dtype=float)"
      ]
    },
    {
      "cell_type": "code",
      "execution_count": 32,
      "id": "e211206a",
      "metadata": {
        "colab": {
          "base_uri": "https://localhost:8080/"
        },
        "id": "e211206a",
        "outputId": "21f787da-cf87-4fe1-c8db-685e07745ecf"
      },
      "outputs": [
        {
          "output_type": "execute_result",
          "data": {
            "text/plain": [
              "array([[3, 5],\n",
              "       [5, 4],\n",
              "       [6, 7]])"
            ]
          },
          "metadata": {},
          "execution_count": 32
        }
      ],
      "source": [
        "np.array(x1)"
      ]
    },
    {
      "cell_type": "code",
      "execution_count": 33,
      "id": "4e73e8b3",
      "metadata": {
        "colab": {
          "base_uri": "https://localhost:8080/"
        },
        "id": "4e73e8b3",
        "outputId": "2a386d66-8dfe-4bff-8edb-93c6b32ec21e"
      },
      "outputs": [
        {
          "output_type": "execute_result",
          "data": {
            "text/plain": [
              "tuple"
            ]
          },
          "metadata": {},
          "execution_count": 33
        }
      ],
      "source": [
        "type(x1)"
      ]
    },
    {
      "cell_type": "code",
      "execution_count": 34,
      "id": "69a5a3c5",
      "metadata": {
        "scrolled": true,
        "colab": {
          "base_uri": "https://localhost:8080/"
        },
        "id": "69a5a3c5",
        "outputId": "2c670b95-f975-498b-cd69-e9c52549e011"
      },
      "outputs": [
        {
          "output_type": "execute_result",
          "data": {
            "text/plain": [
              "array([[3., 5.],\n",
              "       [5., 4.],\n",
              "       [6., 7.]])"
            ]
          },
          "metadata": {},
          "execution_count": 34
        }
      ],
      "source": [
        "a1"
      ]
    },
    {
      "cell_type": "markdown",
      "id": "4e1ac6ef",
      "metadata": {
        "id": "4e1ac6ef"
      },
      "source": [
        "### Array from numerical ranges\n"
      ]
    },
    {
      "cell_type": "code",
      "execution_count": 35,
      "id": "7ec3bb62",
      "metadata": {
        "id": "7ec3bb62"
      },
      "outputs": [],
      "source": [
        "a1 = np.arange(0, 20, 3)"
      ]
    },
    {
      "cell_type": "code",
      "execution_count": 36,
      "id": "d5863bda",
      "metadata": {
        "colab": {
          "base_uri": "https://localhost:8080/"
        },
        "id": "d5863bda",
        "outputId": "04d2ac34-de64-4103-a714-95d6f33ffdcd"
      },
      "outputs": [
        {
          "output_type": "execute_result",
          "data": {
            "text/plain": [
              "array([ 0,  3,  6,  9, 12, 15, 18])"
            ]
          },
          "metadata": {},
          "execution_count": 36
        }
      ],
      "source": [
        "a1"
      ]
    },
    {
      "cell_type": "code",
      "execution_count": 37,
      "id": "fef6898a",
      "metadata": {
        "id": "fef6898a"
      },
      "outputs": [],
      "source": [
        "a1 = np.linspace(10, 20, 3)"
      ]
    },
    {
      "cell_type": "code",
      "execution_count": 38,
      "id": "f9e916e6",
      "metadata": {
        "colab": {
          "base_uri": "https://localhost:8080/"
        },
        "id": "f9e916e6",
        "outputId": "a72bd744-e61e-4c18-d36a-431d44fae079"
      },
      "outputs": [
        {
          "output_type": "execute_result",
          "data": {
            "text/plain": [
              "array([10., 15., 20.])"
            ]
          },
          "metadata": {},
          "execution_count": 38
        }
      ],
      "source": [
        "a1"
      ]
    },
    {
      "cell_type": "markdown",
      "id": "f0f6b0a2",
      "metadata": {
        "id": "f0f6b0a2"
      },
      "source": [
        "## Slicing"
      ]
    },
    {
      "cell_type": "code",
      "execution_count": 39,
      "id": "43992345",
      "metadata": {
        "colab": {
          "base_uri": "https://localhost:8080/"
        },
        "id": "43992345",
        "outputId": "6b00546a-9c3b-4a20-e509-3cdb391daced"
      },
      "outputs": [
        {
          "output_type": "execute_result",
          "data": {
            "text/plain": [
              "array([2, 5, 8])"
            ]
          },
          "metadata": {},
          "execution_count": 39
        }
      ],
      "source": [
        "list1 = np.arange(10)\n",
        "array1 = slice(2, 9, 3)\n",
        "list1[array1]"
      ]
    },
    {
      "cell_type": "code",
      "execution_count": 40,
      "id": "d1ff359d",
      "metadata": {
        "colab": {
          "base_uri": "https://localhost:8080/"
        },
        "id": "d1ff359d",
        "outputId": "07b5f5ec-25ce-4c89-80ee-6e23f0078ee6"
      },
      "outputs": [
        {
          "output_type": "execute_result",
          "data": {
            "text/plain": [
              "array([2, 3, 4, 5, 6, 7, 8])"
            ]
          },
          "metadata": {},
          "execution_count": 40
        }
      ],
      "source": [
        "list1 = np.arange(10)\n",
        "array1 = slice(2, 9)\n",
        "list1[array1]"
      ]
    },
    {
      "cell_type": "code",
      "execution_count": 41,
      "id": "26afa0c4",
      "metadata": {
        "colab": {
          "base_uri": "https://localhost:8080/"
        },
        "id": "26afa0c4",
        "outputId": "e93da564-92e5-43f3-873b-5fd13ca5e93c"
      },
      "outputs": [
        {
          "output_type": "execute_result",
          "data": {
            "text/plain": [
              "array([0, 1, 2, 3, 4, 5, 6, 7, 8, 9])"
            ]
          },
          "metadata": {},
          "execution_count": 41
        }
      ],
      "source": [
        "list1"
      ]
    },
    {
      "cell_type": "code",
      "execution_count": 42,
      "id": "6b9b254b",
      "metadata": {
        "colab": {
          "base_uri": "https://localhost:8080/"
        },
        "id": "6b9b254b",
        "outputId": "051b306a-839d-4293-ba5e-946d0467b31b"
      },
      "outputs": [
        {
          "output_type": "execute_result",
          "data": {
            "text/plain": [
              "array([2, 3, 4, 5, 6, 7, 8])"
            ]
          },
          "metadata": {},
          "execution_count": 42
        }
      ],
      "source": [
        "list1 = np.arange(10)\n",
        "array1 = list1[2: 9]\n",
        "list1[array1]"
      ]
    },
    {
      "cell_type": "code",
      "execution_count": 43,
      "id": "9aee95cf",
      "metadata": {
        "colab": {
          "base_uri": "https://localhost:8080/"
        },
        "id": "9aee95cf",
        "outputId": "ab009d61-d4e5-493b-fb16-0c893b3b5bbb"
      },
      "outputs": [
        {
          "output_type": "execute_result",
          "data": {
            "text/plain": [
              "array([2, 4, 6, 8])"
            ]
          },
          "metadata": {},
          "execution_count": 43
        }
      ],
      "source": [
        "list1 = np.arange(10)\n",
        "array1 = list1[2: 9: 2]\n",
        "list1[array1]"
      ]
    },
    {
      "cell_type": "code",
      "execution_count": 44,
      "id": "be7db1a4",
      "metadata": {
        "colab": {
          "base_uri": "https://localhost:8080/"
        },
        "id": "be7db1a4",
        "outputId": "1b3c8c6f-85c5-44a7-8547-d85d5611e216"
      },
      "outputs": [
        {
          "output_type": "execute_result",
          "data": {
            "text/plain": [
              "10"
            ]
          },
          "metadata": {},
          "execution_count": 44
        }
      ],
      "source": [
        "len(list1)"
      ]
    },
    {
      "cell_type": "code",
      "execution_count": 45,
      "id": "1d1ab11f",
      "metadata": {
        "colab": {
          "base_uri": "https://localhost:8080/"
        },
        "id": "1d1ab11f",
        "outputId": "cf498690-8989-4ec4-b828-6f14fb6b21cd"
      },
      "outputs": [
        {
          "output_type": "execute_result",
          "data": {
            "text/plain": [
              "array([2, 4, 6, 8])"
            ]
          },
          "metadata": {},
          "execution_count": 45
        }
      ],
      "source": [
        "array1"
      ]
    },
    {
      "cell_type": "code",
      "execution_count": 46,
      "id": "669b484a",
      "metadata": {
        "colab": {
          "base_uri": "https://localhost:8080/"
        },
        "id": "669b484a",
        "outputId": "dbf1a442-0c15-4d59-cbcb-83dd68e61bf4"
      },
      "outputs": [
        {
          "output_type": "execute_result",
          "data": {
            "text/plain": [
              "(4,)"
            ]
          },
          "metadata": {},
          "execution_count": 46
        }
      ],
      "source": [
        "array1.shape"
      ]
    },
    {
      "cell_type": "code",
      "execution_count": 47,
      "id": "da4f6c6c",
      "metadata": {
        "colab": {
          "base_uri": "https://localhost:8080/"
        },
        "id": "da4f6c6c",
        "outputId": "6174f5bf-f422-4f34-a161-165fbff17ef9"
      },
      "outputs": [
        {
          "output_type": "execute_result",
          "data": {
            "text/plain": [
              "1"
            ]
          },
          "metadata": {},
          "execution_count": 47
        }
      ],
      "source": [
        "array1.ndim"
      ]
    },
    {
      "cell_type": "code",
      "execution_count": 48,
      "id": "72d81302",
      "metadata": {
        "colab": {
          "base_uri": "https://localhost:8080/"
        },
        "id": "72d81302",
        "outputId": "6690b177-0e0d-4235-dbe8-ec55f6c9362f"
      },
      "outputs": [
        {
          "output_type": "stream",
          "name": "stdout",
          "text": [
            "2\n",
            "3\n"
          ]
        }
      ],
      "source": [
        "array7 = np.array([[[1,2,3,4,5],[4,5,6,7,8]],[[1,3,5,7,9],[4,4,4,4,5]]])\n",
        "print(len(array7))\n",
        "print(array7.ndim)"
      ]
    },
    {
      "cell_type": "code",
      "execution_count": 49,
      "id": "3b543198",
      "metadata": {
        "colab": {
          "base_uri": "https://localhost:8080/"
        },
        "id": "3b543198",
        "outputId": "5d805b4c-5cfa-4a2b-c395-7ece16c10e10"
      },
      "outputs": [
        {
          "output_type": "execute_result",
          "data": {
            "text/plain": [
              "array([[[1, 2, 3, 4, 5],\n",
              "        [4, 5, 6, 7, 8]],\n",
              "\n",
              "       [[1, 3, 5, 7, 9],\n",
              "        [4, 4, 4, 4, 5]]])"
            ]
          },
          "metadata": {},
          "execution_count": 49
        }
      ],
      "source": [
        "array7"
      ]
    },
    {
      "cell_type": "code",
      "execution_count": 50,
      "id": "59749949",
      "metadata": {
        "id": "59749949"
      },
      "outputs": [],
      "source": [
        "array7= np.array([[[1,3,4,5],[3,4,5,6]],[[5,4,5,6],[3,4,5,6]]])\n"
      ]
    },
    {
      "cell_type": "code",
      "execution_count": 51,
      "id": "defed529",
      "metadata": {
        "colab": {
          "base_uri": "https://localhost:8080/"
        },
        "id": "defed529",
        "outputId": "71f6ff8f-e84a-412c-e87e-d260f5a1cf2f"
      },
      "outputs": [
        {
          "output_type": "execute_result",
          "data": {
            "text/plain": [
              "(2, 2, 4)"
            ]
          },
          "metadata": {},
          "execution_count": 51
        }
      ],
      "source": [
        "array7.shape"
      ]
    },
    {
      "cell_type": "code",
      "execution_count": 52,
      "id": "dcac0ab6",
      "metadata": {
        "colab": {
          "base_uri": "https://localhost:8080/"
        },
        "id": "dcac0ab6",
        "outputId": "07f227c8-d5b7-4860-be3b-f1d667bbea3f"
      },
      "outputs": [
        {
          "output_type": "execute_result",
          "data": {
            "text/plain": [
              "3"
            ]
          },
          "metadata": {},
          "execution_count": 52
        }
      ],
      "source": [
        "array7.ndim"
      ]
    },
    {
      "cell_type": "code",
      "execution_count": 53,
      "id": "003fc6e0",
      "metadata": {
        "id": "003fc6e0"
      },
      "outputs": [],
      "source": [
        "array7= np.array([[[1,3,4,5],[3,4,5,6],[3,4,5,6]],[[5,4,5,6],[3,4,5,6],[3,4,5,6]],[[5,4,5,6],[3,4,5,6],[3,4,5,6]],[[5,4,5,6],[3,4,5,6],[3,4,5,6]]])\n"
      ]
    },
    {
      "cell_type": "code",
      "execution_count": 54,
      "id": "e5aadb76",
      "metadata": {
        "colab": {
          "base_uri": "https://localhost:8080/"
        },
        "id": "e5aadb76",
        "outputId": "d9e35047-0764-4698-fcd2-eab5d70cbc28"
      },
      "outputs": [
        {
          "output_type": "stream",
          "name": "stdout",
          "text": [
            "(4, 3, 4)\n",
            "3\n"
          ]
        }
      ],
      "source": [
        "print(array7.shape)\n",
        "print(array7.ndim)"
      ]
    },
    {
      "cell_type": "code",
      "execution_count": 55,
      "id": "f69c0389",
      "metadata": {
        "colab": {
          "base_uri": "https://localhost:8080/"
        },
        "id": "f69c0389",
        "outputId": "ecd56501-6f93-4061-e291-4ec34ad98854"
      },
      "outputs": [
        {
          "output_type": "stream",
          "name": "stdout",
          "text": [
            "[[[1 3 4 5]\n",
            "  [3 4 5 6]\n",
            "  [3 4 5 6]]\n",
            "\n",
            " [[5 4 5 6]\n",
            "  [3 4 5 6]\n",
            "  [3 4 5 6]]\n",
            "\n",
            " [[5 4 5 6]\n",
            "  [3 4 5 6]\n",
            "  [3 4 5 6]]\n",
            "\n",
            " [[5 4 5 6]\n",
            "  [3 4 5 6]\n",
            "  [3 4 5 6]]]\n"
          ]
        }
      ],
      "source": [
        "print(array7)"
      ]
    },
    {
      "cell_type": "markdown",
      "id": "9c676d8a",
      "metadata": {
        "id": "9c676d8a"
      },
      "source": [
        "### Integer indexing"
      ]
    },
    {
      "cell_type": "code",
      "execution_count": 56,
      "id": "2aa923fd",
      "metadata": {
        "id": "2aa923fd"
      },
      "outputs": [],
      "source": [
        "a = np.array([[1, 2], [3, 4], [5, 6]])\n",
        "b = a[[0, 1, 2], [0, 1, 0]]"
      ]
    },
    {
      "cell_type": "code",
      "execution_count": 57,
      "id": "8b53c22d",
      "metadata": {
        "colab": {
          "base_uri": "https://localhost:8080/"
        },
        "id": "8b53c22d",
        "outputId": "baecf89a-6c48-4a66-9f68-0fda61e21ffd"
      },
      "outputs": [
        {
          "output_type": "execute_result",
          "data": {
            "text/plain": [
              "array([[1, 2],\n",
              "       [3, 4],\n",
              "       [5, 6]])"
            ]
          },
          "metadata": {},
          "execution_count": 57
        }
      ],
      "source": [
        "a"
      ]
    },
    {
      "cell_type": "code",
      "execution_count": 58,
      "id": "547c0da2",
      "metadata": {
        "colab": {
          "base_uri": "https://localhost:8080/"
        },
        "id": "547c0da2",
        "outputId": "65885597-4d81-47c3-ae16-ae60a556dd53"
      },
      "outputs": [
        {
          "output_type": "stream",
          "name": "stdout",
          "text": [
            "[1 4 5]\n"
          ]
        }
      ],
      "source": [
        "print(b)"
      ]
    },
    {
      "cell_type": "code",
      "execution_count": 59,
      "id": "d5bc331d",
      "metadata": {
        "id": "d5bc331d"
      },
      "outputs": [],
      "source": [
        "b = a[[0], [0]]"
      ]
    },
    {
      "cell_type": "code",
      "execution_count": 60,
      "id": "7e33ae90",
      "metadata": {
        "colab": {
          "base_uri": "https://localhost:8080/"
        },
        "id": "7e33ae90",
        "outputId": "6daf41b2-5e6e-4339-bdc1-122ee2e3f1f9"
      },
      "outputs": [
        {
          "output_type": "execute_result",
          "data": {
            "text/plain": [
              "array([1])"
            ]
          },
          "metadata": {},
          "execution_count": 60
        }
      ],
      "source": [
        "b"
      ]
    },
    {
      "cell_type": "code",
      "execution_count": 61,
      "id": "749e87c6",
      "metadata": {
        "colab": {
          "base_uri": "https://localhost:8080/"
        },
        "id": "749e87c6",
        "outputId": "a0e259a3-2f8e-4d2d-f0d8-077682248bb3"
      },
      "outputs": [
        {
          "output_type": "execute_result",
          "data": {
            "text/plain": [
              "array([[ 5.,  6.],\n",
              "       [ 8.,  9.],\n",
              "       [nan, 12.]])"
            ]
          },
          "metadata": {},
          "execution_count": 61
        }
      ],
      "source": [
        "a1 = np.array([[1,2,3, 5, np.nan, 9],[4, 5,6, 1,2,3],[7,8, 9, 5,6, 1],[10,np.nan,12, 9, 5,6]])\n",
        "z = a1[1:4, 1:3]\n",
        "z\n"
      ]
    },
    {
      "cell_type": "code",
      "execution_count": 62,
      "id": "f949ae01",
      "metadata": {
        "colab": {
          "base_uri": "https://localhost:8080/"
        },
        "id": "f949ae01",
        "outputId": "2437807d-8780-44b3-b122-77319a985441"
      },
      "outputs": [
        {
          "output_type": "execute_result",
          "data": {
            "text/plain": [
              "array([[ 1.,  2.,  3.,  5., nan,  9.],\n",
              "       [ 4.,  5.,  6.,  1.,  2.,  3.],\n",
              "       [ 7.,  8.,  9.,  5.,  6.,  1.],\n",
              "       [10., nan, 12.,  9.,  5.,  6.]])"
            ]
          },
          "metadata": {},
          "execution_count": 62
        }
      ],
      "source": [
        "a1"
      ]
    },
    {
      "cell_type": "code",
      "execution_count": 63,
      "id": "fd58e193",
      "metadata": {
        "colab": {
          "base_uri": "https://localhost:8080/"
        },
        "id": "fd58e193",
        "outputId": "7b72a3c5-30d8-4952-8bda-30b8ced35671"
      },
      "outputs": [
        {
          "output_type": "execute_result",
          "data": {
            "text/plain": [
              "array([[ 5.,  6.,  1.,  2.,  3.],\n",
              "       [ 8.,  9.,  5.,  6.,  1.],\n",
              "       [nan, 12.,  9.,  5.,  6.]])"
            ]
          },
          "metadata": {},
          "execution_count": 63
        }
      ],
      "source": [
        "z = a1[1:, 1:]\n",
        "z"
      ]
    },
    {
      "cell_type": "code",
      "execution_count": 64,
      "id": "8cf949fe",
      "metadata": {
        "colab": {
          "base_uri": "https://localhost:8080/"
        },
        "id": "8cf949fe",
        "outputId": "d1b2ab34-d101-4bad-94fb-adaaebc3b362"
      },
      "outputs": [
        {
          "output_type": "execute_result",
          "data": {
            "text/plain": [
              "array([[ 1.,  2.,  3.,  5., nan,  9.],\n",
              "       [ 4.,  5.,  6.,  1.,  2.,  3.],\n",
              "       [ 7.,  8.,  9.,  5.,  6.,  1.],\n",
              "       [10., nan, 12.,  9.,  5.,  6.]])"
            ]
          },
          "metadata": {},
          "execution_count": 64
        }
      ],
      "source": [
        "a1"
      ]
    },
    {
      "cell_type": "code",
      "execution_count": 65,
      "id": "3686ae06",
      "metadata": {
        "colab": {
          "base_uri": "https://localhost:8080/"
        },
        "id": "3686ae06",
        "outputId": "6100c1a0-daf9-485b-d146-472983dafbbb"
      },
      "outputs": [
        {
          "output_type": "execute_result",
          "data": {
            "text/plain": [
              "(4, 6)"
            ]
          },
          "metadata": {},
          "execution_count": 65
        }
      ],
      "source": [
        "a1.shape"
      ]
    },
    {
      "cell_type": "code",
      "execution_count": 66,
      "id": "5de6c489",
      "metadata": {
        "colab": {
          "base_uri": "https://localhost:8080/"
        },
        "id": "5de6c489",
        "outputId": "60ad6f4d-86f0-4690-c05c-e5c8f2101e41"
      },
      "outputs": [
        {
          "output_type": "execute_result",
          "data": {
            "text/plain": [
              "array([[ 1.,  2.,  3.],\n",
              "       [ 4.,  5.,  6.],\n",
              "       [ 7.,  8.,  9.],\n",
              "       [10., nan, 12.]])"
            ]
          },
          "metadata": {},
          "execution_count": 66
        }
      ],
      "source": [
        "z = a1[:4, :3]\n",
        "z"
      ]
    },
    {
      "cell_type": "code",
      "execution_count": 67,
      "id": "4bd7f70b",
      "metadata": {
        "colab": {
          "base_uri": "https://localhost:8080/"
        },
        "id": "4bd7f70b",
        "outputId": "3f6b727f-bb81-4d82-8eb9-6e8b8d03f5a5"
      },
      "outputs": [
        {
          "output_type": "execute_result",
          "data": {
            "text/plain": [
              "array([[ 1.,  2.,  3.,  5., nan,  9.],\n",
              "       [ 4.,  5.,  6.,  1.,  2.,  3.],\n",
              "       [ 7.,  8.,  9.,  5.,  6.,  1.],\n",
              "       [10., nan, 12.,  9.,  5.,  6.]])"
            ]
          },
          "metadata": {},
          "execution_count": 67
        }
      ],
      "source": [
        "a1"
      ]
    },
    {
      "cell_type": "code",
      "execution_count": 68,
      "id": "00ef342c",
      "metadata": {
        "colab": {
          "base_uri": "https://localhost:8080/"
        },
        "id": "00ef342c",
        "outputId": "df71c824-74e8-4e14-ad0c-fac9a000cb5a"
      },
      "outputs": [
        {
          "output_type": "execute_result",
          "data": {
            "text/plain": [
              "array([[ 5.,  6.,  1.],\n",
              "       [ 8.,  9.,  5.],\n",
              "       [nan, 12.,  9.]])"
            ]
          },
          "metadata": {},
          "execution_count": 68
        }
      ],
      "source": [
        "y = a1[1:4, [1, 2, 3]]\n",
        "y"
      ]
    },
    {
      "cell_type": "code",
      "execution_count": 69,
      "id": "4a96df23",
      "metadata": {
        "colab": {
          "base_uri": "https://localhost:8080/"
        },
        "id": "4a96df23",
        "outputId": "1c90d6f6-e649-4fd6-8ed3-727a1636d5a7"
      },
      "outputs": [
        {
          "output_type": "execute_result",
          "data": {
            "text/plain": [
              "array([5., 9., 9.])"
            ]
          },
          "metadata": {},
          "execution_count": 69
        }
      ],
      "source": [
        "a1[[1, 2, 3], [1, 2, 3]]"
      ]
    },
    {
      "cell_type": "code",
      "execution_count": 70,
      "id": "011f1feb",
      "metadata": {
        "colab": {
          "base_uri": "https://localhost:8080/"
        },
        "id": "011f1feb",
        "outputId": "3d71a791-a7f5-436d-da81-e848c6730a6f"
      },
      "outputs": [
        {
          "output_type": "execute_result",
          "data": {
            "text/plain": [
              "array([[5., 6., 1.],\n",
              "       [8., 9., 5.]])"
            ]
          },
          "metadata": {},
          "execution_count": 70
        }
      ],
      "source": [
        "a1[1:3, 1:4]"
      ]
    },
    {
      "cell_type": "code",
      "execution_count": 71,
      "id": "4494fa09",
      "metadata": {
        "colab": {
          "base_uri": "https://localhost:8080/"
        },
        "id": "4494fa09",
        "outputId": "7659d955-3d7a-423e-97de-cdd17b6e1a28"
      },
      "outputs": [
        {
          "output_type": "execute_result",
          "data": {
            "text/plain": [
              "array([[ 1.,  2.,  3.,  5., nan,  9.],\n",
              "       [ 4.,  5.,  6.,  1.,  2.,  3.],\n",
              "       [ 7.,  8.,  9.,  5.,  6.,  1.],\n",
              "       [10., nan, 12.,  9.,  5.,  6.]])"
            ]
          },
          "metadata": {},
          "execution_count": 71
        }
      ],
      "source": [
        "a1"
      ]
    },
    {
      "cell_type": "code",
      "execution_count": 72,
      "id": "4aae68b9",
      "metadata": {
        "colab": {
          "base_uri": "https://localhost:8080/"
        },
        "id": "4aae68b9",
        "outputId": "11c4daa0-5404-4c30-fe08-9260434f9ab5"
      },
      "outputs": [
        {
          "output_type": "execute_result",
          "data": {
            "text/plain": [
              "array([1., 2., 3., 1., 2., 3., 1.])"
            ]
          },
          "metadata": {},
          "execution_count": 72
        }
      ],
      "source": [
        "a1[a1<4]"
      ]
    },
    {
      "cell_type": "code",
      "execution_count": 73,
      "id": "880f27be",
      "metadata": {
        "id": "880f27be"
      },
      "outputs": [],
      "source": [
        "arr1 = np.array([[ 8,  9,  6,  7,  8,  9,  6, 10, 11, 12,  9,  6], [ 8,  9,  6,  7,  8,  9,  6, 10, 11, 12,  9,  6]])"
      ]
    },
    {
      "cell_type": "code",
      "execution_count": 74,
      "id": "e959384f",
      "metadata": {
        "colab": {
          "base_uri": "https://localhost:8080/"
        },
        "id": "e959384f",
        "outputId": "bd1b0d94-1af7-4032-f149-55495abe5212"
      },
      "outputs": [
        {
          "output_type": "execute_result",
          "data": {
            "text/plain": [
              "(2, 12)"
            ]
          },
          "metadata": {},
          "execution_count": 74
        }
      ],
      "source": [
        "arr1.shape"
      ]
    },
    {
      "cell_type": "code",
      "execution_count": 75,
      "id": "5130cad0",
      "metadata": {
        "colab": {
          "base_uri": "https://localhost:8080/"
        },
        "id": "5130cad0",
        "outputId": "8791fffc-04f8-4b49-f3ff-4d06b916a681"
      },
      "outputs": [
        {
          "output_type": "execute_result",
          "data": {
            "text/plain": [
              "array([ 1.,  5.,  8., nan, 52., 65., nan])"
            ]
          },
          "metadata": {},
          "execution_count": 75
        }
      ],
      "source": [
        "a = np.array([1, 5,  8, np.nan, 52, 65, np.nan])\n",
        "a"
      ]
    },
    {
      "cell_type": "code",
      "execution_count": 76,
      "id": "6fd5986c",
      "metadata": {
        "colab": {
          "base_uri": "https://localhost:8080/"
        },
        "id": "6fd5986c",
        "outputId": "e48249a2-ea91-49ca-bbda-b237f1544b22"
      },
      "outputs": [
        {
          "output_type": "execute_result",
          "data": {
            "text/plain": [
              "array([nan, nan])"
            ]
          },
          "metadata": {},
          "execution_count": 76
        }
      ],
      "source": [
        "a[np.isnan(a)]"
      ]
    },
    {
      "cell_type": "code",
      "execution_count": 77,
      "id": "203d8c98",
      "metadata": {
        "colab": {
          "base_uri": "https://localhost:8080/"
        },
        "id": "203d8c98",
        "outputId": "92e8cff7-ee08-4d14-dc6f-791aa6c45ef3"
      },
      "outputs": [
        {
          "output_type": "execute_result",
          "data": {
            "text/plain": [
              "array([ 1.,  5.,  8., 52., 65.])"
            ]
          },
          "metadata": {},
          "execution_count": 77
        }
      ],
      "source": [
        "a[~np.isnan(a)]"
      ]
    },
    {
      "cell_type": "code",
      "execution_count": 78,
      "id": "55747f0c",
      "metadata": {
        "colab": {
          "base_uri": "https://localhost:8080/"
        },
        "id": "55747f0c",
        "outputId": "8796fdfb-4049-491b-f11e-79555b0ec29c"
      },
      "outputs": [
        {
          "output_type": "execute_result",
          "data": {
            "text/plain": [
              "array([nan, nan])"
            ]
          },
          "metadata": {},
          "execution_count": 78
        }
      ],
      "source": [
        "a1[np.isnan(a1)]"
      ]
    },
    {
      "cell_type": "code",
      "execution_count": 79,
      "id": "c8d297ce",
      "metadata": {
        "id": "c8d297ce"
      },
      "outputs": [],
      "source": [
        "a= np.array([[1,2,'dd'],[5,6,7],[1,2,3],[5,6,7]])\n",
        "b= a[1:4,1:3]\n"
      ]
    },
    {
      "cell_type": "code",
      "execution_count": 80,
      "id": "bb66778a",
      "metadata": {
        "colab": {
          "base_uri": "https://localhost:8080/"
        },
        "id": "bb66778a",
        "outputId": "41cb76d4-5b3b-4f9d-9d8a-27d695b91736"
      },
      "outputs": [
        {
          "output_type": "execute_result",
          "data": {
            "text/plain": [
              "array([['6', '7'],\n",
              "       ['2', '3'],\n",
              "       ['6', '7']], dtype='<U21')"
            ]
          },
          "metadata": {},
          "execution_count": 80
        }
      ],
      "source": [
        "b"
      ]
    },
    {
      "cell_type": "code",
      "execution_count": 81,
      "id": "ce8732eb",
      "metadata": {
        "colab": {
          "base_uri": "https://localhost:8080/"
        },
        "id": "ce8732eb",
        "outputId": "0e5ba9ff-6185-4be5-ffb4-214480431dba"
      },
      "outputs": [
        {
          "output_type": "execute_result",
          "data": {
            "text/plain": [
              "dtype('<U21')"
            ]
          },
          "metadata": {},
          "execution_count": 81
        }
      ],
      "source": [
        "b.dtype"
      ]
    },
    {
      "cell_type": "code",
      "execution_count": 82,
      "id": "0ed77139",
      "metadata": {
        "colab": {
          "base_uri": "https://localhost:8080/"
        },
        "id": "0ed77139",
        "outputId": "de2545d5-0965-4f6a-a920-c772ea6dcd83"
      },
      "outputs": [
        {
          "output_type": "execute_result",
          "data": {
            "text/plain": [
              "array([['1', '2', 'dd'],\n",
              "       ['5', '6', '7'],\n",
              "       ['1', '2', '3'],\n",
              "       ['5', '6', '7']], dtype='<U21')"
            ]
          },
          "metadata": {},
          "execution_count": 82
        }
      ],
      "source": [
        "a"
      ]
    },
    {
      "cell_type": "code",
      "execution_count": 83,
      "id": "d6e12411",
      "metadata": {
        "id": "d6e12411"
      },
      "outputs": [],
      "source": [
        "a= np.array([[1,2,1],[5,6,7],[1,2,3],[5,6,7]])\n",
        "b= np.array([[1,2,1],[5,6,7],[1,2,3],[5,6,7]])\n"
      ]
    },
    {
      "cell_type": "code",
      "execution_count": 84,
      "id": "850b0379",
      "metadata": {
        "colab": {
          "base_uri": "https://localhost:8080/"
        },
        "id": "850b0379",
        "outputId": "90ee0927-4a98-4f99-ff93-4dae312353f7"
      },
      "outputs": [
        {
          "output_type": "execute_result",
          "data": {
            "text/plain": [
              "array([[1, 2, 1],\n",
              "       [5, 6, 7],\n",
              "       [1, 2, 3],\n",
              "       [5, 6, 7]])"
            ]
          },
          "metadata": {},
          "execution_count": 84
        }
      ],
      "source": [
        "a"
      ]
    },
    {
      "cell_type": "code",
      "execution_count": 85,
      "id": "c76eab38",
      "metadata": {
        "colab": {
          "base_uri": "https://localhost:8080/"
        },
        "id": "c76eab38",
        "outputId": "faaf128d-d38d-437f-c6dd-af0441a42b61"
      },
      "outputs": [
        {
          "output_type": "execute_result",
          "data": {
            "text/plain": [
              "array([[1, 2, 1],\n",
              "       [5, 6, 7],\n",
              "       [1, 2, 3],\n",
              "       [5, 6, 7]])"
            ]
          },
          "metadata": {},
          "execution_count": 85
        }
      ],
      "source": [
        "b"
      ]
    },
    {
      "cell_type": "code",
      "execution_count": 86,
      "id": "41590913",
      "metadata": {
        "colab": {
          "base_uri": "https://localhost:8080/"
        },
        "id": "41590913",
        "outputId": "9dfc430e-784a-40d0-ea28-9c51479c1bf2"
      },
      "outputs": [
        {
          "output_type": "execute_result",
          "data": {
            "text/plain": [
              "array([[ 2,  4,  2],\n",
              "       [10, 12, 14],\n",
              "       [ 2,  4,  6],\n",
              "       [10, 12, 14]])"
            ]
          },
          "metadata": {},
          "execution_count": 86
        }
      ],
      "source": [
        "a+b"
      ]
    },
    {
      "cell_type": "code",
      "execution_count": 86,
      "id": "da81a29b",
      "metadata": {
        "id": "da81a29b"
      },
      "outputs": [],
      "source": [
        ""
      ]
    }
  ],
  "metadata": {
    "kernelspec": {
      "display_name": "Python 3.10.5 64-bit",
      "language": "python",
      "name": "python3"
    },
    "language_info": {
      "codemirror_mode": {
        "name": "ipython",
        "version": 3
      },
      "file_extension": ".py",
      "mimetype": "text/x-python",
      "name": "python",
      "nbconvert_exporter": "python",
      "pygments_lexer": "ipython3",
      "version": "3.10.5"
    },
    "vscode": {
      "interpreter": {
        "hash": "a42ccb73e7d9bfdf27e036f1d2b8b681e55fc0743cc5586bc2474d4a60f4b886"
      }
    },
    "colab": {
      "name": "Numpy_Part3.ipynb",
      "provenance": []
    }
  },
  "nbformat": 4,
  "nbformat_minor": 5
}